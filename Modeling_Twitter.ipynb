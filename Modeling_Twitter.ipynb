{
 "cells": [
  {
   "cell_type": "markdown",
   "metadata": {
    "id": "XwFOba1pbdVc"
   },
   "source": [
    "## **Objective **\n",
    "### Social Media Tweet Analysis on Twitter Dataset\n",
    "*   Topic Modeling on Twitter Dataset\n",
    "\n",
    "\n",
    "*   Reference for [Topic modeling ](https://https://towardsdatascience.com/evaluate-topic-model-in-python-latent-dirichlet-allocation-lda-7d57484bb5d0)\n",
    "\n",
    "*   Sentiment analysis on Twitter Dataset\n",
    "\n"
   ]
  },
  {
   "cell_type": "markdown",
   "metadata": {
    "id": "SN9Lla4UO1SS"
   },
   "source": [
    "\n",
    "\n",
    "\n",
    "\n",
    "\n",
    "### **Business understanding**"
   ]
  },
  {
   "cell_type": "markdown",
   "metadata": {
    "id": "Dbu9rgu4iSTe"
   },
   "source": [
    "### **Topic modeling**\n",
    "Topic modeling is a type of statistical model for discovering the abstract \"topics\" that occur in a collection of texts.\n",
    " It is an unsupervised approach used for finding and observing the bunch of words (called “topics”) in large clusters of texts.\n",
    " **Topic models** are built around the idea that the semantics of our document are actually being governed by some hidden, or “latent,” variables that we are not observing.\n",
    "\n",
    "*   Our task here is to discover abstract topics from tweets.\n",
    "\n",
    "\n",
    "### **Sentiment analysis**\n",
    " It is used in social media monitoring, allowing businesses to gain insights about how customers feel about certain topics, and detect urgent issues in real time before they spiral out of control.\n",
    "\n",
    "\n",
    "*   Our task here is to classify a tweet as a positive or negative tweet sentiment wise.\n",
    "\n",
    "\n"
   ]
  },
  {
   "cell_type": "code",
   "execution_count": 7,
   "metadata": {
    "id": "Vsmv5wkz0VFu"
   },
   "outputs": [
    {
     "data": {
      "text/plain": [
       "0       0.166667\n",
       "1       0.133333\n",
       "2       0.316667\n",
       "3       0.086111\n",
       "4       0.280000\n",
       "          ...   \n",
       "6527    0.000000\n",
       "6528    0.086111\n",
       "6529    0.281250\n",
       "6530    0.125000\n",
       "6531    0.000000\n",
       "Name: polarity, Length: 6532, dtype: float64"
      ]
     },
     "execution_count": 7,
     "metadata": {},
     "output_type": "execute_result"
    }
   ],
   "source": [
    "import pandas as pd\n",
    "import matplotlib.pyplot as plt\n",
    "from sklearn.model_selection import train_test_split\n",
    "\n",
    "from sklearn.linear_model import SGDClassifier\n",
    "from sklearn.feature_extraction.text import CountVectorizer\n",
    "from sklearn.metrics import accuracy_score\n",
    "from sklearn. metrics import classification_report\n",
    "from sklearn.metrics import confusion_matrix\n",
    "from sklearn.pipeline import Pipeline\n",
    "from sklearn.feature_extraction.text import TfidfTransformer\n",
    "\n",
    "def text_catagory(p):\n",
    "    if p > 0:\n",
    "        return 'positive'\n",
    "    elif p < 0:\n",
    "        return 'negative'\n",
    "    else:\n",
    "        return 'neutral'\n",
    "    \n",
    "file_name = 'cleaned_fintech_data.csv'\n",
    "df = pd.read_csv(file_name)\n",
    "\n",
    "# see polarity\n",
    "df['polarity']"
   ]
  },
  {
   "cell_type": "code",
   "execution_count": 8,
   "metadata": {},
   "outputs": [
    {
     "data": {
      "text/html": [
       "<div>\n",
       "<style scoped>\n",
       "    .dataframe tbody tr th:only-of-type {\n",
       "        vertical-align: middle;\n",
       "    }\n",
       "\n",
       "    .dataframe tbody tr th {\n",
       "        vertical-align: top;\n",
       "    }\n",
       "\n",
       "    .dataframe thead th {\n",
       "        text-align: right;\n",
       "    }\n",
       "</style>\n",
       "<table border=\"1\" class=\"dataframe\">\n",
       "  <thead>\n",
       "    <tr style=\"text-align: right;\">\n",
       "      <th></th>\n",
       "      <th>clean_text</th>\n",
       "      <th>polarity</th>\n",
       "    </tr>\n",
       "  </thead>\n",
       "  <tbody>\n",
       "    <tr>\n",
       "      <th>0</th>\n",
       "      <td>🚨Africa is \"in the midst of a full-blown third...</td>\n",
       "      <td>0.166667</td>\n",
       "    </tr>\n",
       "    <tr>\n",
       "      <th>1</th>\n",
       "      <td>Dr Moeti is head of WHO in Africa, and one of ...</td>\n",
       "      <td>0.133333</td>\n",
       "    </tr>\n",
       "    <tr>\n",
       "      <th>2</th>\n",
       "      <td>Thank you @research2note for creating this ama...</td>\n",
       "      <td>0.316667</td>\n",
       "    </tr>\n",
       "    <tr>\n",
       "      <th>3</th>\n",
       "      <td>Former Pfizer VP and Virologist, Dr. Michael Y...</td>\n",
       "      <td>0.086111</td>\n",
       "    </tr>\n",
       "    <tr>\n",
       "      <th>4</th>\n",
       "      <td>I think it’s important that we don’t sell COVA...</td>\n",
       "      <td>0.280000</td>\n",
       "    </tr>\n",
       "  </tbody>\n",
       "</table>\n",
       "</div>"
      ],
      "text/plain": [
       "                                          clean_text  polarity\n",
       "0  🚨Africa is \"in the midst of a full-blown third...  0.166667\n",
       "1  Dr Moeti is head of WHO in Africa, and one of ...  0.133333\n",
       "2  Thank you @research2note for creating this ama...  0.316667\n",
       "3  Former Pfizer VP and Virologist, Dr. Michael Y...  0.086111\n",
       "4  I think it’s important that we don’t sell COVA...  0.280000"
      ]
     },
     "execution_count": 8,
     "metadata": {},
     "output_type": "execute_result"
    }
   ],
   "source": [
    "cleanTweet = df[['original_text', 'polarity']].rename({'original_text': 'clean_text'}, axis=1)\n",
    "cleanTweet.head()"
   ]
  },
  {
   "cell_type": "code",
   "execution_count": 9,
   "metadata": {},
   "outputs": [],
   "source": [
    "# Apply text_category on the  𝐩𝐨𝐥𝐚𝐫𝐢𝐭𝐲  column of cleanTweet, form a new column called  𝐬𝐜𝐨𝐫𝐞\n",
    "cleanTweet['score'] = cleanTweet[\"polarity\"].map(text_catagory)"
   ]
  },
  {
   "cell_type": "code",
   "execution_count": 10,
   "metadata": {},
   "outputs": [
    {
     "data": {
      "text/html": [
       "<div>\n",
       "<style scoped>\n",
       "    .dataframe tbody tr th:only-of-type {\n",
       "        vertical-align: middle;\n",
       "    }\n",
       "\n",
       "    .dataframe tbody tr th {\n",
       "        vertical-align: top;\n",
       "    }\n",
       "\n",
       "    .dataframe thead th {\n",
       "        text-align: right;\n",
       "    }\n",
       "</style>\n",
       "<table border=\"1\" class=\"dataframe\">\n",
       "  <thead>\n",
       "    <tr style=\"text-align: right;\">\n",
       "      <th></th>\n",
       "      <th>clean_text</th>\n",
       "      <th>polarity</th>\n",
       "      <th>score</th>\n",
       "    </tr>\n",
       "  </thead>\n",
       "  <tbody>\n",
       "    <tr>\n",
       "      <th>0</th>\n",
       "      <td>🚨Africa is \"in the midst of a full-blown third...</td>\n",
       "      <td>0.166667</td>\n",
       "      <td>positive</td>\n",
       "    </tr>\n",
       "    <tr>\n",
       "      <th>1</th>\n",
       "      <td>Dr Moeti is head of WHO in Africa, and one of ...</td>\n",
       "      <td>0.133333</td>\n",
       "      <td>positive</td>\n",
       "    </tr>\n",
       "    <tr>\n",
       "      <th>2</th>\n",
       "      <td>Thank you @research2note for creating this ama...</td>\n",
       "      <td>0.316667</td>\n",
       "      <td>positive</td>\n",
       "    </tr>\n",
       "    <tr>\n",
       "      <th>3</th>\n",
       "      <td>Former Pfizer VP and Virologist, Dr. Michael Y...</td>\n",
       "      <td>0.086111</td>\n",
       "      <td>positive</td>\n",
       "    </tr>\n",
       "    <tr>\n",
       "      <th>4</th>\n",
       "      <td>I think it’s important that we don’t sell COVA...</td>\n",
       "      <td>0.280000</td>\n",
       "      <td>positive</td>\n",
       "    </tr>\n",
       "  </tbody>\n",
       "</table>\n",
       "</div>"
      ],
      "text/plain": [
       "                                          clean_text  polarity     score\n",
       "0  🚨Africa is \"in the midst of a full-blown third...  0.166667  positive\n",
       "1  Dr Moeti is head of WHO in Africa, and one of ...  0.133333  positive\n",
       "2  Thank you @research2note for creating this ama...  0.316667  positive\n",
       "3  Former Pfizer VP and Virologist, Dr. Michael Y...  0.086111  positive\n",
       "4  I think it’s important that we don’t sell COVA...  0.280000  positive"
      ]
     },
     "execution_count": 10,
     "metadata": {},
     "output_type": "execute_result"
    }
   ],
   "source": [
    "cleanTweet.head()"
   ]
  },
  {
   "cell_type": "code",
   "execution_count": 11,
   "metadata": {},
   "outputs": [
    {
     "data": {
      "text/plain": [
       "<AxesSubplot:xlabel='score'>"
      ]
     },
     "execution_count": 11,
     "metadata": {},
     "output_type": "execute_result"
    },
    {
     "data": {
      "image/png": "[encoded data removed]",
      "text/plain": [
       "<Figure size 576x432 with 1 Axes>"
      ]
     },
     "metadata": {
      "needs_background": "light"
     },
     "output_type": "display_data"
    }
   ],
   "source": [
    "# visualize using BarChart\n",
    "fig,axis=plt.subplots(figsize=(8,6))\n",
    "cleanTweet.groupby('score')['clean_text'].count().plot.bar(ax=axis)"
   ]
  },
  {
   "cell_type": "code",
   "execution_count": 12,
   "metadata": {},
   "outputs": [
    {
     "data": {
      "text/plain": [
       "<AxesSubplot:ylabel='clean_text'>"
      ]
     },
     "execution_count": 12,
     "metadata": {},
     "output_type": "execute_result"
    },
    {
     "data": {
      "image/png": "[encoded data removed]",
      "text/plain": [
       "<Figure size 576x432 with 1 Axes>"
      ]
     },
     "metadata": {},
     "output_type": "display_data"
    }
   ],
   "source": [
    "# visualize using PieChart\n",
    "fig,axis=plt.subplots(figsize=(8,6))\n",
    "cleanTweet.groupby('score')['clean_text'].count().plot.pie(ax=axis)"
   ]
  },
  {
   "cell_type": "code",
   "execution_count": 13,
   "metadata": {},
   "outputs": [
    {
     "data": {
      "text/html": [
       "<div>\n",
       "<style scoped>\n",
       "    .dataframe tbody tr th:only-of-type {\n",
       "        vertical-align: middle;\n",
       "    }\n",
       "\n",
       "    .dataframe tbody tr th {\n",
       "        vertical-align: top;\n",
       "    }\n",
       "\n",
       "    .dataframe thead th {\n",
       "        text-align: right;\n",
       "    }\n",
       "</style>\n",
       "<table border=\"1\" class=\"dataframe\">\n",
       "  <thead>\n",
       "    <tr style=\"text-align: right;\">\n",
       "      <th></th>\n",
       "      <th>clean_text</th>\n",
       "      <th>polarity</th>\n",
       "      <th>score</th>\n",
       "    </tr>\n",
       "  </thead>\n",
       "  <tbody>\n",
       "    <tr>\n",
       "      <th>0</th>\n",
       "      <td>🚨Africa is \"in the midst of a full-blown third...</td>\n",
       "      <td>0.166667</td>\n",
       "      <td>positive</td>\n",
       "    </tr>\n",
       "    <tr>\n",
       "      <th>1</th>\n",
       "      <td>Dr Moeti is head of WHO in Africa, and one of ...</td>\n",
       "      <td>0.133333</td>\n",
       "      <td>positive</td>\n",
       "    </tr>\n",
       "    <tr>\n",
       "      <th>2</th>\n",
       "      <td>Thank you @research2note for creating this ama...</td>\n",
       "      <td>0.316667</td>\n",
       "      <td>positive</td>\n",
       "    </tr>\n",
       "    <tr>\n",
       "      <th>3</th>\n",
       "      <td>Former Pfizer VP and Virologist, Dr. Michael Y...</td>\n",
       "      <td>0.086111</td>\n",
       "      <td>positive</td>\n",
       "    </tr>\n",
       "    <tr>\n",
       "      <th>4</th>\n",
       "      <td>I think it’s important that we don’t sell COVA...</td>\n",
       "      <td>0.280000</td>\n",
       "      <td>positive</td>\n",
       "    </tr>\n",
       "  </tbody>\n",
       "</table>\n",
       "</div>"
      ],
      "text/plain": [
       "                                          clean_text  polarity     score\n",
       "0  🚨Africa is \"in the midst of a full-blown third...  0.166667  positive\n",
       "1  Dr Moeti is head of WHO in Africa, and one of ...  0.133333  positive\n",
       "2  Thank you @research2note for creating this ama...  0.316667  positive\n",
       "3  Former Pfizer VP and Virologist, Dr. Michael Y...  0.086111  positive\n",
       "4  I think it’s important that we don’t sell COVA...  0.280000  positive"
      ]
     },
     "execution_count": 13,
     "metadata": {},
     "output_type": "execute_result"
    }
   ],
   "source": [
    "# Remove rows from cleanTweet where  𝐩𝐨𝐥𝐚𝐫𝐢𝐭𝐲   =0  (i.e where  𝐬𝐜𝐨𝐫𝐞  = Neutral)\n",
    "cleanTweet = cleanTweet[cleanTweet['polarity'] != 0]\n",
    "\n",
    "# reset the frame index.\n",
    "cleanTweet.reset_index(drop=True, inplace=True)\n",
    "cleanTweet.head()"
   ]
  },
  {
   "cell_type": "code",
   "execution_count": 14,
   "metadata": {},
   "outputs": [
    {
     "data": {
      "text/html": [
       "<div>\n",
       "<style scoped>\n",
       "    .dataframe tbody tr th:only-of-type {\n",
       "        vertical-align: middle;\n",
       "    }\n",
       "\n",
       "    .dataframe tbody tr th {\n",
       "        vertical-align: top;\n",
       "    }\n",
       "\n",
       "    .dataframe thead th {\n",
       "        text-align: right;\n",
       "    }\n",
       "</style>\n",
       "<table border=\"1\" class=\"dataframe\">\n",
       "  <thead>\n",
       "    <tr style=\"text-align: right;\">\n",
       "      <th></th>\n",
       "      <th>clean_text</th>\n",
       "      <th>polarity</th>\n",
       "      <th>score</th>\n",
       "      <th>scoremap</th>\n",
       "    </tr>\n",
       "  </thead>\n",
       "  <tbody>\n",
       "    <tr>\n",
       "      <th>0</th>\n",
       "      <td>🚨Africa is \"in the midst of a full-blown third...</td>\n",
       "      <td>0.166667</td>\n",
       "      <td>positive</td>\n",
       "      <td>1</td>\n",
       "    </tr>\n",
       "    <tr>\n",
       "      <th>1</th>\n",
       "      <td>Dr Moeti is head of WHO in Africa, and one of ...</td>\n",
       "      <td>0.133333</td>\n",
       "      <td>positive</td>\n",
       "      <td>1</td>\n",
       "    </tr>\n",
       "    <tr>\n",
       "      <th>2</th>\n",
       "      <td>Thank you @research2note for creating this ama...</td>\n",
       "      <td>0.316667</td>\n",
       "      <td>positive</td>\n",
       "      <td>1</td>\n",
       "    </tr>\n",
       "    <tr>\n",
       "      <th>3</th>\n",
       "      <td>Former Pfizer VP and Virologist, Dr. Michael Y...</td>\n",
       "      <td>0.086111</td>\n",
       "      <td>positive</td>\n",
       "      <td>1</td>\n",
       "    </tr>\n",
       "    <tr>\n",
       "      <th>4</th>\n",
       "      <td>I think it’s important that we don’t sell COVA...</td>\n",
       "      <td>0.280000</td>\n",
       "      <td>positive</td>\n",
       "      <td>1</td>\n",
       "    </tr>\n",
       "  </tbody>\n",
       "</table>\n",
       "</div>"
      ],
      "text/plain": [
       "                                          clean_text  polarity     score  \\\n",
       "0  🚨Africa is \"in the midst of a full-blown third...  0.166667  positive   \n",
       "1  Dr Moeti is head of WHO in Africa, and one of ...  0.133333  positive   \n",
       "2  Thank you @research2note for creating this ama...  0.316667  positive   \n",
       "3  Former Pfizer VP and Virologist, Dr. Michael Y...  0.086111  positive   \n",
       "4  I think it’s important that we don’t sell COVA...  0.280000  positive   \n",
       "\n",
       "   scoremap  \n",
       "0         1  \n",
       "1         1  \n",
       "2         1  \n",
       "3         1  \n",
       "4         1  "
      ]
     },
     "execution_count": 14,
     "metadata": {},
     "output_type": "execute_result"
    }
   ],
   "source": [
    "# Construct a column  𝐬𝐜𝐨𝐫𝐞𝐦𝐚𝐩  Use the mapping {'positive':1, 'negative':0} on the  𝐬𝐜𝐨𝐫𝐞  column\n",
    "def get_score(value):\n",
    "    return 1 if (value == 'positive') else 0\n",
    "\n",
    "cleanTweet['scoremap'] = cleanTweet['score'].map(get_score)\n",
    "cleanTweet.head()"
   ]
  },
  {
   "cell_type": "code",
   "execution_count": 15,
   "metadata": {},
   "outputs": [],
   "source": [
    "# Create feature and target variables (X,y) from  𝐜𝐥𝐞𝐚𝐧-𝐭𝐞𝐱𝐭  and  𝐬𝐜𝐨𝐫𝐞𝐦𝐚𝐩  columns respectively.\n",
    "X = cleanTweet['clean_text']\n",
    "y = cleanTweet['scoremap']"
   ]
  },
  {
   "cell_type": "code",
   "execution_count": 16,
   "metadata": {},
   "outputs": [],
   "source": [
    "# Use train_test_split function to construct (X_train, y_train) and (X_test, y_test) from (X,y)\n",
    "# i dont' know what it is actually doing\n",
    "x_train, x_test, y_train, y_test = train_test_split(X, y)"
   ]
  },
  {
   "cell_type": "code",
   "execution_count": 17,
   "metadata": {},
   "outputs": [
    {
     "data": {
      "text/plain": [
       "<3527x22684 sparse matrix of type '<class 'numpy.int64'>'\n",
       "\twith 114816 stored elements in Compressed Sparse Row format>"
      ]
     },
     "execution_count": 17,
     "metadata": {},
     "output_type": "execute_result"
    }
   ],
   "source": [
    "# Build an SGDClassifier model from the vectorize train text data. Use CountVectorizer() with a  trigram  parameter.\n",
    "# pipeline = Pipeline([\n",
    "#     ('vector',  CountVectorizer(analyzer='word', ngram_range=(3,3))),\n",
    "#     ('tfitf', TfidfTransformer()),\n",
    "#     ('clf', SGDClassifier(max_iter=1000))\n",
    "# ])\n",
    "# X_train_count = pipeline.fit(x_train, y_train)\n",
    "# can't run this for y_train\n",
    "# y_predection = X_train_count.predict(x_test)\n",
    "cv = CountVectorizer(ngram_range=(3, 3))\n",
    "X_train_cv = cv.fit_transform(x_train)\n",
    "X_test_cv = cv.transform(x_test)\n",
    "X_train_cv"
   ]
  },
  {
   "cell_type": "code",
   "execution_count": 18,
   "metadata": {},
   "outputs": [],
   "source": [
    "# Evaluate your model on the test data.\n",
    "clf = SGDClassifier()\n",
    "clf.fit(X_train_cv, y_train)\n",
    "predictions = clf.predict(X_test_cv)"
   ]
  },
  {
   "cell_type": "code",
   "execution_count": 19,
   "metadata": {},
   "outputs": [
    {
     "data": {
      "text/plain": [
       "array([[292,  39],\n",
       "       [  2, 843]], dtype=int64)"
      ]
     },
     "execution_count": 19,
     "metadata": {},
     "output_type": "execute_result"
    }
   ],
   "source": [
    "results = confusion_matrix(y_test, predictions) \n",
    "results"
   ]
  },
  {
   "cell_type": "code",
   "execution_count": 20,
   "metadata": {},
   "outputs": [
    {
     "data": {
      "text/plain": [
       "0.9651360544217688"
      ]
     },
     "execution_count": 20,
     "metadata": {},
     "output_type": "execute_result"
    }
   ],
   "source": [
    "# accuracy\n",
    "accuracy_score(y_test, predictions)"
   ]
  },
  {
   "cell_type": "code",
   "execution_count": 21,
   "metadata": {},
   "outputs": [
    {
     "name": "stdout",
     "output_type": "stream",
     "text": [
      "              precision    recall  f1-score   support\n",
      "\n",
      "           0       0.99      0.88      0.93       331\n",
      "           1       0.96      1.00      0.98       845\n",
      "\n",
      "    accuracy                           0.97      1176\n",
      "   macro avg       0.97      0.94      0.96      1176\n",
      "weighted avg       0.97      0.97      0.96      1176\n",
      "\n"
     ]
    }
   ],
   "source": [
    "# Classification report\n",
    "print(classification_report(y_test, predictions))"
   ]
  },
  {
   "cell_type": "markdown",
   "metadata": {
    "id": "REuN7elQ0Vvr"
   },
   "source": [
    "**Topic modeling **is a machine learning technique that automatically analyzes text data to determine cluster words for a set of documents. \n",
    "\n",
    "\n",
    "*   unsupervised machine learning because it doesn’t require a predefined list of tags or training data that’s been previously classified by humans.\n",
    "*   doesn’t require training, it’s a quick and easy way to start analyzing your data."
   ]
  },
  {
   "cell_type": "markdown",
   "metadata": {
    "id": "hQuEQFUIy2_3"
   },
   "source": [
    "## Data Understanding\n",
    "### Loading necessary packages"
   ]
  },
  {
   "cell_type": "code",
   "execution_count": 1,
   "metadata": {
    "id": "CTUmMBAOyt-g"
   },
   "outputs": [],
   "source": [
    "import warnings\n",
    "warnings.filterwarnings('ignore')\n",
    "import matplotlib.pyplot as plt\n",
    "import seaborn as sns\n",
    "from wordcloud import STOPWORDS,WordCloud\n",
    "import gensim\n",
    "from gensim.models import CoherenceModel\n",
    "from gensim import corpora\n",
    "import pandas as pd\n",
    "from pprint import pprint\n",
    "import string\n",
    "import os\n",
    "import re"
   ]
  },
  {
   "cell_type": "code",
   "execution_count": null,
   "metadata": {},
   "outputs": [],
   "source": []
  },
  {
   "cell_type": "markdown",
   "metadata": {
    "id": "J4_9Y5q6zOK-"
   },
   "source": [
    "Data acquisition\n",
    "\n",
    "For this example we have two option for data acquisition:\n",
    "\n",
    "*   You can download Twitter dataset directly from Twitter\n",
    "*   By registering as a developer using this link [Here](https://developer.twitter.com/en) \n",
    "\n",
    "*   Or you can use downloaded data found at Week0/data/cleaned_fintech_data.csv \n",
    "\n"
   ]
  },
  {
   "cell_type": "code",
   "execution_count": 3,
   "metadata": {
    "colab": {
     "base_uri": "https://localhost:8080/",
     "height": 86
    },
    "id": "aE9Bs0UxrG5z",
    "outputId": "c0e72b04-e4c7-4123-8a3a-dd40aee64f89"
   },
   "outputs": [
    {
     "data": {
      "text/html": [
       "<div>\n",
       "<style scoped>\n",
       "    .dataframe tbody tr th:only-of-type {\n",
       "        vertical-align: middle;\n",
       "    }\n",
       "\n",
       "    .dataframe tbody tr th {\n",
       "        vertical-align: top;\n",
       "    }\n",
       "\n",
       "    .dataframe thead th {\n",
       "        text-align: right;\n",
       "    }\n",
       "</style>\n",
       "<table border=\"1\" class=\"dataframe\">\n",
       "  <thead>\n",
       "    <tr style=\"text-align: right;\">\n",
       "      <th></th>\n",
       "      <th>Unnamed: 0</th>\n",
       "      <th>created_at</th>\n",
       "      <th>source</th>\n",
       "      <th>original_text</th>\n",
       "      <th>polarity</th>\n",
       "      <th>subjectivity</th>\n",
       "      <th>lang</th>\n",
       "      <th>favorite_count</th>\n",
       "      <th>retweet_count</th>\n",
       "      <th>original_author</th>\n",
       "      <th>followers_count</th>\n",
       "      <th>friends_count</th>\n",
       "      <th>possibly_sensitive</th>\n",
       "      <th>hashtags</th>\n",
       "      <th>user_mentions</th>\n",
       "      <th>place</th>\n",
       "    </tr>\n",
       "  </thead>\n",
       "  <tbody>\n",
       "    <tr>\n",
       "      <th>5</th>\n",
       "      <td>5</td>\n",
       "      <td>Fri Jun 18 17:56:25 +0000 2021</td>\n",
       "      <td>&lt;a href=\"http://twitter.com/download/android\" ...</td>\n",
       "      <td>I’m pleased to welcome the #WeCanDoThis bus to...</td>\n",
       "      <td>0.508333</td>\n",
       "      <td>0.783333</td>\n",
       "      <td>en</td>\n",
       "      <td>683</td>\n",
       "      <td>220</td>\n",
       "      <td>SandhraLee</td>\n",
       "      <td>759</td>\n",
       "      <td>4163</td>\n",
       "      <td>None</td>\n",
       "      <td>WeCanDoThis\\nCOVID19</td>\n",
       "      <td>CDCDirector</td>\n",
       "      <td>USA</td>\n",
       "    </tr>\n",
       "    <tr>\n",
       "      <th>9</th>\n",
       "      <td>9</td>\n",
       "      <td>Fri Jun 18 17:56:47 +0000 2021</td>\n",
       "      <td>&lt;a href=\"https://mobile.twitter.com\" rel=\"nofo...</td>\n",
       "      <td>It is really something to see new research com...</td>\n",
       "      <td>0.372727</td>\n",
       "      <td>0.467424</td>\n",
       "      <td>en</td>\n",
       "      <td>3</td>\n",
       "      <td>1</td>\n",
       "      <td>DarkaDuna2014</td>\n",
       "      <td>94</td>\n",
       "      <td>144</td>\n",
       "      <td>None</td>\n",
       "      <td>Covid19</td>\n",
       "      <td>LongCovidNYC</td>\n",
       "      <td>Bilbao, País Vasco</td>\n",
       "    </tr>\n",
       "    <tr>\n",
       "      <th>16</th>\n",
       "      <td>16</td>\n",
       "      <td>Fri Jun 18 17:57:18 +0000 2021</td>\n",
       "      <td>&lt;a href=\"https://mobile.twitter.com\" rel=\"nofo...</td>\n",
       "      <td>It is really something to see new research com...</td>\n",
       "      <td>0.372727</td>\n",
       "      <td>0.467424</td>\n",
       "      <td>en</td>\n",
       "      <td>5</td>\n",
       "      <td>3</td>\n",
       "      <td>SheriD17536431</td>\n",
       "      <td>470</td>\n",
       "      <td>1240</td>\n",
       "      <td>None</td>\n",
       "      <td>Covid19</td>\n",
       "      <td>LongCovidNYC</td>\n",
       "      <td>Nashville</td>\n",
       "    </tr>\n",
       "    <tr>\n",
       "      <th>19</th>\n",
       "      <td>19</td>\n",
       "      <td>Fri Jun 18 17:57:22 +0000 2021</td>\n",
       "      <td>&lt;a href=\"http://twitter.com/download/iphone\" r...</td>\n",
       "      <td>So glad to join training day for the DC #COVID...</td>\n",
       "      <td>0.625000</td>\n",
       "      <td>1.000000</td>\n",
       "      <td>en</td>\n",
       "      <td>6</td>\n",
       "      <td>3</td>\n",
       "      <td>stevenlwalker</td>\n",
       "      <td>5769</td>\n",
       "      <td>1848</td>\n",
       "      <td>None</td>\n",
       "      <td>COVID19</td>\n",
       "      <td>falcicchio</td>\n",
       "      <td>Bending stuff towards justice</td>\n",
       "    </tr>\n",
       "    <tr>\n",
       "      <th>29</th>\n",
       "      <td>29</td>\n",
       "      <td>Fri Jun 18 17:57:48 +0000 2021</td>\n",
       "      <td>&lt;a href=\"https://about.twitter.com/products/tw...</td>\n",
       "      <td>It is really something to see new research com...</td>\n",
       "      <td>0.372727</td>\n",
       "      <td>0.467424</td>\n",
       "      <td>en</td>\n",
       "      <td>6</td>\n",
       "      <td>4</td>\n",
       "      <td>RGC_BPPA</td>\n",
       "      <td>2689</td>\n",
       "      <td>5003</td>\n",
       "      <td>None</td>\n",
       "      <td>Covid19</td>\n",
       "      <td>LongCovidNYC</td>\n",
       "      <td>Lafayette, Louisiana</td>\n",
       "    </tr>\n",
       "    <tr>\n",
       "      <th>...</th>\n",
       "      <td>...</td>\n",
       "      <td>...</td>\n",
       "      <td>...</td>\n",
       "      <td>...</td>\n",
       "      <td>...</td>\n",
       "      <td>...</td>\n",
       "      <td>...</td>\n",
       "      <td>...</td>\n",
       "      <td>...</td>\n",
       "      <td>...</td>\n",
       "      <td>...</td>\n",
       "      <td>...</td>\n",
       "      <td>...</td>\n",
       "      <td>...</td>\n",
       "      <td>...</td>\n",
       "      <td>...</td>\n",
       "    </tr>\n",
       "    <tr>\n",
       "      <th>6510</th>\n",
       "      <td>6510</td>\n",
       "      <td>Sat Jun 19 07:38:44 +0000 2021</td>\n",
       "      <td>&lt;a href=\"http://twitter.com/download/android\" ...</td>\n",
       "      <td>With vaccination coverage being expanded from ...</td>\n",
       "      <td>0.200000</td>\n",
       "      <td>0.400000</td>\n",
       "      <td>en</td>\n",
       "      <td>98</td>\n",
       "      <td>32</td>\n",
       "      <td>DPD_India</td>\n",
       "      <td>9757</td>\n",
       "      <td>94</td>\n",
       "      <td>None</td>\n",
       "      <td>COVID19</td>\n",
       "      <td>mygovindia</td>\n",
       "      <td>India</td>\n",
       "    </tr>\n",
       "    <tr>\n",
       "      <th>6511</th>\n",
       "      <td>6511</td>\n",
       "      <td>Sat Jun 19 07:38:47 +0000 2021</td>\n",
       "      <td>&lt;a href=\"https://mobile.twitter.com\" rel=\"nofo...</td>\n",
       "      <td>Over 990.25 million doses of #COVID19 #vaccine...</td>\n",
       "      <td>0.000000</td>\n",
       "      <td>0.000000</td>\n",
       "      <td>en</td>\n",
       "      <td>9</td>\n",
       "      <td>4</td>\n",
       "      <td>irfanakram</td>\n",
       "      <td>76</td>\n",
       "      <td>341</td>\n",
       "      <td>None</td>\n",
       "      <td>COVID19\\nvaccines</td>\n",
       "      <td>PDChina</td>\n",
       "      <td>Wazirabad,Pakistan</td>\n",
       "    </tr>\n",
       "    <tr>\n",
       "      <th>6515</th>\n",
       "      <td>6515</td>\n",
       "      <td>Sat Jun 19 07:39:14 +0000 2021</td>\n",
       "      <td>&lt;a href=\"http://twitter.com/download/android\" ...</td>\n",
       "      <td>Third wave of #coronavirus has hit Africa in a...</td>\n",
       "      <td>-0.116667</td>\n",
       "      <td>0.450000</td>\n",
       "      <td>en</td>\n",
       "      <td>309</td>\n",
       "      <td>43</td>\n",
       "      <td>khaleelwarsi</td>\n",
       "      <td>2923</td>\n",
       "      <td>2241</td>\n",
       "      <td>None</td>\n",
       "      <td>coronavirus</td>\n",
       "      <td>DrAMSinghvi</td>\n",
       "      <td>India</td>\n",
       "    </tr>\n",
       "    <tr>\n",
       "      <th>6522</th>\n",
       "      <td>6522</td>\n",
       "      <td>Sat Jun 19 07:40:29 +0000 2021</td>\n",
       "      <td>&lt;a href=\"https://mobile.twitter.com\" rel=\"nofo...</td>\n",
       "      <td>The Truth Behind COVID-19 Vaccines (6) —— Bell...</td>\n",
       "      <td>-0.386111</td>\n",
       "      <td>0.622222</td>\n",
       "      <td>en</td>\n",
       "      <td>2</td>\n",
       "      <td>2</td>\n",
       "      <td>Hhuatakedownccp</td>\n",
       "      <td>697</td>\n",
       "      <td>303</td>\n",
       "      <td>None</td>\n",
       "      <td>DrLiMengYan\\nCCPVirus</td>\n",
       "      <td>edendomain</td>\n",
       "      <td>Osaka-shi Chuo, Osaka</td>\n",
       "    </tr>\n",
       "    <tr>\n",
       "      <th>6530</th>\n",
       "      <td>6530</td>\n",
       "      <td>Sat Jun 19 07:41:45 +0000 2021</td>\n",
       "      <td>&lt;a href=\"http://twitter.com/download/iphone\" r...</td>\n",
       "      <td>\"Africa needs millions more doses here &amp;amp; n...</td>\n",
       "      <td>0.125000</td>\n",
       "      <td>0.325000</td>\n",
       "      <td>en</td>\n",
       "      <td>143</td>\n",
       "      <td>122</td>\n",
       "      <td>DrAmirKhanGP</td>\n",
       "      <td>135163</td>\n",
       "      <td>1284</td>\n",
       "      <td>None</td>\n",
       "      <td>COVID19</td>\n",
       "      <td>WHOAFRO</td>\n",
       "      <td>Yorkshire and The Humber</td>\n",
       "    </tr>\n",
       "  </tbody>\n",
       "</table>\n",
       "<p>1556 rows × 16 columns</p>\n",
       "</div>"
      ],
      "text/plain": [
       "      Unnamed: 0                      created_at  \\\n",
       "5              5  Fri Jun 18 17:56:25 +0000 2021   \n",
       "9              9  Fri Jun 18 17:56:47 +0000 2021   \n",
       "16            16  Fri Jun 18 17:57:18 +0000 2021   \n",
       "19            19  Fri Jun 18 17:57:22 +0000 2021   \n",
       "29            29  Fri Jun 18 17:57:48 +0000 2021   \n",
       "...          ...                             ...   \n",
       "6510        6510  Sat Jun 19 07:38:44 +0000 2021   \n",
       "6511        6511  Sat Jun 19 07:38:47 +0000 2021   \n",
       "6515        6515  Sat Jun 19 07:39:14 +0000 2021   \n",
       "6522        6522  Sat Jun 19 07:40:29 +0000 2021   \n",
       "6530        6530  Sat Jun 19 07:41:45 +0000 2021   \n",
       "\n",
       "                                                 source  \\\n",
       "5     <a href=\"http://twitter.com/download/android\" ...   \n",
       "9     <a href=\"https://mobile.twitter.com\" rel=\"nofo...   \n",
       "16    <a href=\"https://mobile.twitter.com\" rel=\"nofo...   \n",
       "19    <a href=\"http://twitter.com/download/iphone\" r...   \n",
       "29    <a href=\"https://about.twitter.com/products/tw...   \n",
       "...                                                 ...   \n",
       "6510  <a href=\"http://twitter.com/download/android\" ...   \n",
       "6511  <a href=\"https://mobile.twitter.com\" rel=\"nofo...   \n",
       "6515  <a href=\"http://twitter.com/download/android\" ...   \n",
       "6522  <a href=\"https://mobile.twitter.com\" rel=\"nofo...   \n",
       "6530  <a href=\"http://twitter.com/download/iphone\" r...   \n",
       "\n",
       "                                          original_text  polarity  \\\n",
       "5     I’m pleased to welcome the #WeCanDoThis bus to...  0.508333   \n",
       "9     It is really something to see new research com...  0.372727   \n",
       "16    It is really something to see new research com...  0.372727   \n",
       "19    So glad to join training day for the DC #COVID...  0.625000   \n",
       "29    It is really something to see new research com...  0.372727   \n",
       "...                                                 ...       ...   \n",
       "6510  With vaccination coverage being expanded from ...  0.200000   \n",
       "6511  Over 990.25 million doses of #COVID19 #vaccine...  0.000000   \n",
       "6515  Third wave of #coronavirus has hit Africa in a... -0.116667   \n",
       "6522  The Truth Behind COVID-19 Vaccines (6) —— Bell... -0.386111   \n",
       "6530  \"Africa needs millions more doses here &amp; n...  0.125000   \n",
       "\n",
       "      subjectivity lang  favorite_count  retweet_count  original_author  \\\n",
       "5         0.783333   en             683            220       SandhraLee   \n",
       "9         0.467424   en               3              1    DarkaDuna2014   \n",
       "16        0.467424   en               5              3   SheriD17536431   \n",
       "19        1.000000   en               6              3    stevenlwalker   \n",
       "29        0.467424   en               6              4         RGC_BPPA   \n",
       "...            ...  ...             ...            ...              ...   \n",
       "6510      0.400000   en              98             32        DPD_India   \n",
       "6511      0.000000   en               9              4       irfanakram   \n",
       "6515      0.450000   en             309             43     khaleelwarsi   \n",
       "6522      0.622222   en               2              2  Hhuatakedownccp   \n",
       "6530      0.325000   en             143            122     DrAmirKhanGP   \n",
       "\n",
       "      followers_count  friends_count possibly_sensitive  \\\n",
       "5                 759           4163               None   \n",
       "9                  94            144               None   \n",
       "16                470           1240               None   \n",
       "19               5769           1848               None   \n",
       "29               2689           5003               None   \n",
       "...               ...            ...                ...   \n",
       "6510             9757             94               None   \n",
       "6511               76            341               None   \n",
       "6515             2923           2241               None   \n",
       "6522              697            303               None   \n",
       "6530           135163           1284               None   \n",
       "\n",
       "                   hashtags user_mentions                          place  \n",
       "5      WeCanDoThis\\nCOVID19   CDCDirector                            USA  \n",
       "9                   Covid19  LongCovidNYC             Bilbao, País Vasco  \n",
       "16                  Covid19  LongCovidNYC                      Nashville  \n",
       "19                  COVID19    falcicchio  Bending stuff towards justice  \n",
       "29                  Covid19  LongCovidNYC           Lafayette, Louisiana  \n",
       "...                     ...           ...                            ...  \n",
       "6510                COVID19    mygovindia                          India  \n",
       "6511      COVID19\\nvaccines       PDChina             Wazirabad,Pakistan  \n",
       "6515            coronavirus   DrAMSinghvi                          India  \n",
       "6522  DrLiMengYan\\nCCPVirus    edendomain          Osaka-shi Chuo, Osaka  \n",
       "6530                COVID19       WHOAFRO       Yorkshire and The Humber  \n",
       "\n",
       "[1556 rows x 16 columns]"
      ]
     },
     "execution_count": 3,
     "metadata": {},
     "output_type": "execute_result"
    }
   ],
   "source": [
    "tweets_df=pd.read_csv('cleaned_fintech_data.csv')\n",
    "tweets_df.dropna()\n"
   ]
  },
  {
   "cell_type": "code",
   "execution_count": 4,
   "metadata": {
    "colab": {
     "base_uri": "https://localhost:8080/"
    },
    "id": "31p0WZaVQbDG",
    "outputId": "9c1f4124-fa5e-42cb-aa1f-035b2c4b70f7"
   },
   "outputs": [
    {
     "data": {
      "text/plain": [
       "6532"
      ]
     },
     "execution_count": 4,
     "metadata": {},
     "output_type": "execute_result"
    }
   ],
   "source": [
    "len(tweets_df)"
   ]
  },
  {
   "cell_type": "code",
   "execution_count": 22,
   "metadata": {},
   "outputs": [
    {
     "data": {
      "text/html": [
       "<div>\n",
       "<style scoped>\n",
       "    .dataframe tbody tr th:only-of-type {\n",
       "        vertical-align: middle;\n",
       "    }\n",
       "\n",
       "    .dataframe tbody tr th {\n",
       "        vertical-align: top;\n",
       "    }\n",
       "\n",
       "    .dataframe thead th {\n",
       "        text-align: right;\n",
       "    }\n",
       "</style>\n",
       "<table border=\"1\" class=\"dataframe\">\n",
       "  <thead>\n",
       "    <tr style=\"text-align: right;\">\n",
       "      <th></th>\n",
       "      <th>clean_text</th>\n",
       "      <th>polarity</th>\n",
       "    </tr>\n",
       "  </thead>\n",
       "  <tbody>\n",
       "    <tr>\n",
       "      <th>0</th>\n",
       "      <td>🚨Africa is \"in the midst of a full-blown third...</td>\n",
       "      <td>0.166667</td>\n",
       "    </tr>\n",
       "    <tr>\n",
       "      <th>1</th>\n",
       "      <td>Dr Moeti is head of WHO in Africa, and one of ...</td>\n",
       "      <td>0.133333</td>\n",
       "    </tr>\n",
       "    <tr>\n",
       "      <th>2</th>\n",
       "      <td>Thank you @research2note for creating this ama...</td>\n",
       "      <td>0.316667</td>\n",
       "    </tr>\n",
       "    <tr>\n",
       "      <th>3</th>\n",
       "      <td>Former Pfizer VP and Virologist, Dr. Michael Y...</td>\n",
       "      <td>0.086111</td>\n",
       "    </tr>\n",
       "    <tr>\n",
       "      <th>4</th>\n",
       "      <td>I think it’s important that we don’t sell COVA...</td>\n",
       "      <td>0.280000</td>\n",
       "    </tr>\n",
       "  </tbody>\n",
       "</table>\n",
       "</div>"
      ],
      "text/plain": [
       "                                          clean_text  polarity\n",
       "0  🚨Africa is \"in the midst of a full-blown third...  0.166667\n",
       "1  Dr Moeti is head of WHO in Africa, and one of ...  0.133333\n",
       "2  Thank you @research2note for creating this ama...  0.316667\n",
       "3  Former Pfizer VP and Virologist, Dr. Michael Y...  0.086111\n",
       "4  I think it’s important that we don’t sell COVA...  0.280000"
      ]
     },
     "execution_count": 22,
     "metadata": {},
     "output_type": "execute_result"
    }
   ],
   "source": [
    "cleanTweet = tweets_df[['original_text', 'polarity']].rename({'original_text': 'clean_text'}, axis=1)\n",
    "cleanTweet.head()"
   ]
  },
  {
   "cell_type": "code",
   "execution_count": 23,
   "metadata": {},
   "outputs": [],
   "source": [
    "# Apply text_category on the  𝐩𝐨𝐥𝐚𝐫𝐢𝐭𝐲  column of cleanTweet, form a new column called  𝐬𝐜𝐨𝐫𝐞\n",
    "cleanTweet['score'] = cleanTweet[\"polarity\"].map(text_catagory)"
   ]
  },
  {
   "cell_type": "code",
   "execution_count": 24,
   "metadata": {},
   "outputs": [
    {
     "data": {
      "text/html": [
       "<div>\n",
       "<style scoped>\n",
       "    .dataframe tbody tr th:only-of-type {\n",
       "        vertical-align: middle;\n",
       "    }\n",
       "\n",
       "    .dataframe tbody tr th {\n",
       "        vertical-align: top;\n",
       "    }\n",
       "\n",
       "    .dataframe thead th {\n",
       "        text-align: right;\n",
       "    }\n",
       "</style>\n",
       "<table border=\"1\" class=\"dataframe\">\n",
       "  <thead>\n",
       "    <tr style=\"text-align: right;\">\n",
       "      <th></th>\n",
       "      <th>clean_text</th>\n",
       "      <th>polarity</th>\n",
       "      <th>score</th>\n",
       "    </tr>\n",
       "  </thead>\n",
       "  <tbody>\n",
       "    <tr>\n",
       "      <th>0</th>\n",
       "      <td>🚨Africa is \"in the midst of a full-blown third...</td>\n",
       "      <td>0.166667</td>\n",
       "      <td>positive</td>\n",
       "    </tr>\n",
       "    <tr>\n",
       "      <th>1</th>\n",
       "      <td>Dr Moeti is head of WHO in Africa, and one of ...</td>\n",
       "      <td>0.133333</td>\n",
       "      <td>positive</td>\n",
       "    </tr>\n",
       "    <tr>\n",
       "      <th>2</th>\n",
       "      <td>Thank you @research2note for creating this ama...</td>\n",
       "      <td>0.316667</td>\n",
       "      <td>positive</td>\n",
       "    </tr>\n",
       "    <tr>\n",
       "      <th>3</th>\n",
       "      <td>Former Pfizer VP and Virologist, Dr. Michael Y...</td>\n",
       "      <td>0.086111</td>\n",
       "      <td>positive</td>\n",
       "    </tr>\n",
       "    <tr>\n",
       "      <th>4</th>\n",
       "      <td>I think it’s important that we don’t sell COVA...</td>\n",
       "      <td>0.280000</td>\n",
       "      <td>positive</td>\n",
       "    </tr>\n",
       "  </tbody>\n",
       "</table>\n",
       "</div>"
      ],
      "text/plain": [
       "                                          clean_text  polarity     score\n",
       "0  🚨Africa is \"in the midst of a full-blown third...  0.166667  positive\n",
       "1  Dr Moeti is head of WHO in Africa, and one of ...  0.133333  positive\n",
       "2  Thank you @research2note for creating this ama...  0.316667  positive\n",
       "3  Former Pfizer VP and Virologist, Dr. Michael Y...  0.086111  positive\n",
       "4  I think it’s important that we don’t sell COVA...  0.280000  positive"
      ]
     },
     "execution_count": 24,
     "metadata": {},
     "output_type": "execute_result"
    }
   ],
   "source": [
    "# Remove rows from cleanTweet where  𝐩𝐨𝐥𝐚𝐫𝐢𝐭𝐲   =0  (i.e where  𝐬𝐜𝐨𝐫𝐞  = Neutral)\n",
    "cleanTweet = cleanTweet[cleanTweet['polarity'] != 0]\n",
    "\n",
    "# reset the frame index.\n",
    "cleanTweet.reset_index(drop=True, inplace=True)\n",
    "cleanTweet.head()"
   ]
  },
  {
   "cell_type": "code",
   "execution_count": 25,
   "metadata": {},
   "outputs": [
    {
     "data": {
      "text/html": [
       "<div>\n",
       "<style scoped>\n",
       "    .dataframe tbody tr th:only-of-type {\n",
       "        vertical-align: middle;\n",
       "    }\n",
       "\n",
       "    .dataframe tbody tr th {\n",
       "        vertical-align: top;\n",
       "    }\n",
       "\n",
       "    .dataframe thead th {\n",
       "        text-align: right;\n",
       "    }\n",
       "</style>\n",
       "<table border=\"1\" class=\"dataframe\">\n",
       "  <thead>\n",
       "    <tr style=\"text-align: right;\">\n",
       "      <th></th>\n",
       "      <th>clean_text</th>\n",
       "      <th>polarity</th>\n",
       "      <th>score</th>\n",
       "      <th>scoremap</th>\n",
       "    </tr>\n",
       "  </thead>\n",
       "  <tbody>\n",
       "    <tr>\n",
       "      <th>0</th>\n",
       "      <td>🚨Africa is \"in the midst of a full-blown third...</td>\n",
       "      <td>0.166667</td>\n",
       "      <td>positive</td>\n",
       "      <td>1</td>\n",
       "    </tr>\n",
       "    <tr>\n",
       "      <th>1</th>\n",
       "      <td>Dr Moeti is head of WHO in Africa, and one of ...</td>\n",
       "      <td>0.133333</td>\n",
       "      <td>positive</td>\n",
       "      <td>1</td>\n",
       "    </tr>\n",
       "    <tr>\n",
       "      <th>2</th>\n",
       "      <td>Thank you @research2note for creating this ama...</td>\n",
       "      <td>0.316667</td>\n",
       "      <td>positive</td>\n",
       "      <td>1</td>\n",
       "    </tr>\n",
       "    <tr>\n",
       "      <th>3</th>\n",
       "      <td>Former Pfizer VP and Virologist, Dr. Michael Y...</td>\n",
       "      <td>0.086111</td>\n",
       "      <td>positive</td>\n",
       "      <td>1</td>\n",
       "    </tr>\n",
       "    <tr>\n",
       "      <th>4</th>\n",
       "      <td>I think it’s important that we don’t sell COVA...</td>\n",
       "      <td>0.280000</td>\n",
       "      <td>positive</td>\n",
       "      <td>1</td>\n",
       "    </tr>\n",
       "  </tbody>\n",
       "</table>\n",
       "</div>"
      ],
      "text/plain": [
       "                                          clean_text  polarity     score  \\\n",
       "0  🚨Africa is \"in the midst of a full-blown third...  0.166667  positive   \n",
       "1  Dr Moeti is head of WHO in Africa, and one of ...  0.133333  positive   \n",
       "2  Thank you @research2note for creating this ama...  0.316667  positive   \n",
       "3  Former Pfizer VP and Virologist, Dr. Michael Y...  0.086111  positive   \n",
       "4  I think it’s important that we don’t sell COVA...  0.280000  positive   \n",
       "\n",
       "   scoremap  \n",
       "0         1  \n",
       "1         1  \n",
       "2         1  \n",
       "3         1  \n",
       "4         1  "
      ]
     },
     "execution_count": 25,
     "metadata": {},
     "output_type": "execute_result"
    }
   ],
   "source": [
    "# Construct a column  𝐬𝐜𝐨𝐫𝐞𝐦𝐚𝐩  Use the mapping {'positive':1, 'negative':0} on the  𝐬𝐜𝐨𝐫𝐞  column\n",
    "def get_score(value):\n",
    "    return 1 if (value == 'positive') else 0\n",
    "\n",
    "cleanTweet['scoremap'] = cleanTweet['score'].map(get_score)\n",
    "cleanTweet.head()"
   ]
  },
  {
   "cell_type": "code",
   "execution_count": 31,
   "metadata": {
    "id": "zoI1crVvCCxY"
   },
   "outputs": [],
   "source": [
    "class PrepareData:\n",
    "  def __init__(self,df):\n",
    "    self.df=df\n",
    "    \n",
    "  def preprocess_data(self):\n",
    "    #cleanTweet = self.df.loc[self.df['lang'] ==\"en\"]\n",
    "\n",
    "    \n",
    "    #text Preprocessing\n",
    "    cleanTweet['clean_text']=cleanTweet['clean_text'].astype(str)\n",
    "    cleanTweet['clean_text'] = cleanTweet['clean_text'].apply(lambda x: x.lower())\n",
    "    cleanTweet['clean_text']= cleanTweet['clean_text'].apply(lambda x: x.translate(str.maketrans(' ', ' ', string.punctuation)))\n",
    "    \n",
    "    #Converting tweets to list of words For feature engineering\n",
    "    sentence_list = [tweet for tweet in cleanTweet['clean_text']]\n",
    "    word_list = [sent.split() for sent in sentence_list]\n",
    "\n",
    "    #Create dictionary which contains Id and word \n",
    "    word_to_id = corpora.Dictionary(word_list)\n",
    "    corpus_1= [word_to_id.doc2bow(tweet) for tweet in word_list]\n",
    "\n",
    "\n",
    "\n",
    "    \n",
    "    return word_list, word_to_id, corpus_1\n"
   ]
  },
  {
   "cell_type": "code",
   "execution_count": 33,
   "metadata": {
    "id": "YNvtCNYKEKco"
   },
   "outputs": [],
   "source": [
    "PrepareData_obj=PrepareData(cleanTweet)\n",
    "word_list ,id2word,corpus=PrepareData_obj.preprocess_data()"
   ]
  },
  {
   "cell_type": "markdown",
   "metadata": {
    "id": "UiOucOjxYYZl"
   },
   "source": [
    "### Topic Modeling using Latent Dirichlet Allocation \n",
    "based on the distributional hypothesis, (i.e. similar topics make use of similar words) and the statistical mixture hypothesis (i.e. documents talk about several topics) for which a statistical distribution can be determined. \n",
    "\n",
    "*  The purpose of LDA is mapping each teweets in our corpus to a set of topics \n",
    "which covers a good deal of the words in the tweet\n",
    "\n"
   ]
  },
  {
   "cell_type": "code",
   "execution_count": 34,
   "metadata": {
    "id": "aHqC02L_NUMG"
   },
   "outputs": [],
   "source": [
    "# Build LDA model\n",
    "lda_model = gensim.models.ldamodel.LdaModel(corpus,\n",
    "                                           id2word=id2word,\n",
    "                                           num_topics=5, \n",
    "                                           random_state=100,\n",
    "                                           update_every=1,\n",
    "                                           chunksize=100,\n",
    "                                           passes=10,\n",
    "                                           alpha='auto',\n",
    "                                           per_word_topics=True)"
   ]
  },
  {
   "cell_type": "code",
   "execution_count": 35,
   "metadata": {
    "colab": {
     "base_uri": "https://localhost:8080/"
    },
    "id": "aa5pVKgnmpzn",
    "outputId": "83d42d3b-4d06-4974-fda2-54c13ca7a9d7"
   },
   "outputs": [
    {
     "name": "stdout",
     "output_type": "stream",
     "text": [
      "[(0,\n",
      "  [('to', 0.035455454),\n",
      "   ('the', 0.026376467),\n",
      "   ('covid19', 0.02095555),\n",
      "   ('a', 0.018707378),\n",
      "   ('risk', 0.015022333),\n",
      "   ('vaccines', 0.014484119),\n",
      "   ('in', 0.014128335),\n",
      "   ('your', 0.012817391),\n",
      "   ('that', 0.012353266),\n",
      "   ('of', 0.012145905)]),\n",
      " (1,\n",
      "  [('vaccines', 0.04108493),\n",
      "   ('age', 0.03400315),\n",
      "   ('capacity', 0.032317996),\n",
      "   ('min', 0.031033635),\n",
      "   ('limit', 0.031033635),\n",
      "   ('dose1', 0.031033635),\n",
      "   ('pin', 0.031033635),\n",
      "   ('covaxin', 0.023757929),\n",
      "   ('pmcg', 0.018742956),\n",
      "   ('0', 0.01812064)]),\n",
      " (2,\n",
      "  [('of', 0.044023555),\n",
      "   ('india', 0.043407995),\n",
      "   ('the', 0.042644426),\n",
      "   ('in', 0.04256079),\n",
      "   ('africa', 0.036441024),\n",
      "   ('covid19', 0.030540043),\n",
      "   ('wave', 0.027137108),\n",
      "   ('third', 0.02658758),\n",
      "   ('a', 0.02233464),\n",
      "   ('cases', 0.021765891)]),\n",
      " (3,\n",
      "  [('to', 0.0405088),\n",
      "   ('the', 0.04048643),\n",
      "   ('and', 0.037504062),\n",
      "   ('we', 0.02360637),\n",
      "   ('vaccines', 0.021986641),\n",
      "   ('of', 0.02001904),\n",
      "   ('in', 0.019208804),\n",
      "   ('need', 0.01872153),\n",
      "   ('you', 0.017626973),\n",
      "   ('africa', 0.01728749)]),\n",
      " (4,\n",
      "  [('the', 0.046493266),\n",
      "   ('of', 0.036361493),\n",
      "   ('to', 0.03579503),\n",
      "   ('covid19', 0.023508705),\n",
      "   ('vaccines', 0.021737847),\n",
      "   ('is', 0.016561015),\n",
      "   ('in', 0.014888571),\n",
      "   ('have', 0.014734473),\n",
      "   ('a', 0.013454086),\n",
      "   ('and', 0.013173263)])]\n"
     ]
    }
   ],
   "source": [
    "\n",
    "\n",
    "pprint(lda_model.show_topics(formatted=False))"
   ]
  },
  {
   "cell_type": "markdown",
   "metadata": {
    "id": "0dDmumROo4zX"
   },
   "source": [
    "Each line is a topic with individual topic terms and weights. Topic0  can be termed as climate change, and Topic4 can be termed as government and carbon emission."
   ]
  },
  {
   "cell_type": "markdown",
   "metadata": {
    "id": "1pLR7-4AtZzT"
   },
   "source": [
    "# **Model Analysis**\n",
    "\n",
    "Perplexity is also a measure of model quality and in natural language processing is often used as “perplexity per number of words”. It describes how well a model predicts a sample, i.e. how much it is “perplexed” by a sample from the observed data. The lower the score, the better the model for the given data.\n",
    "\n",
    "A coherence matrix is used to test the model for accuracy. Topic coherence is a measure that compares different topic models based on their human-interpretability. The coherence score ‘C_V’ provides a numerical value to the interpretability of the topics"
   ]
  },
  {
   "cell_type": "code",
   "execution_count": 36,
   "metadata": {
    "colab": {
     "base_uri": "https://localhost:8080/"
    },
    "id": "JWDGb45QqRoZ",
    "outputId": "da168d8d-7bdd-4003-c253-29ede38c7ee0"
   },
   "outputs": [
    {
     "name": "stdout",
     "output_type": "stream",
     "text": [
      "\n",
      "Perplexity:  -6.47064946288357\n",
      "\n",
      " Ldamodel Coherence Score/Accuracy on Tweets:  0.5083747137084009\n"
     ]
    }
   ],
   "source": [
    "# Compute Perplexity\n",
    "\n",
    "#It's a measure of how good the model is. The lower the better. Perplexity is a negative value\n",
    "print('\\nPerplexity: ', lda_model.log_perplexity(corpus))  \n",
    "doc_lda = lda_model[corpus]\n",
    "\n",
    "\n",
    "# Compute Coherence Score\n",
    "coherence_model_lda = CoherenceModel(model=lda_model, texts=word_list, dictionary=id2word, coherence='c_v')\n",
    "coherence_lda = coherence_model_lda.get_coherence()\n",
    "print('\\n Ldamodel Coherence Score/Accuracy on Tweets: ', coherence_lda)"
   ]
  },
  {
   "cell_type": "markdown",
   "metadata": {
    "id": "_KR1oX1q5dUD"
   },
   "source": [
    "Basic Ldamodel Coherence Score 0.58 This means that the model has performed reasonably well in topic modeling."
   ]
  },
  {
   "cell_type": "code",
   "execution_count": 37,
   "metadata": {
    "colab": {
     "base_uri": "https://localhost:8080/",
     "height": 904
    },
    "id": "yAyoNCIWlGql",
    "outputId": "fa34a99c-b168-4436-c3d7-a537b7ac9b13"
   },
   "outputs": [
    {
     "name": "stdout",
     "output_type": "stream",
     "text": [
      "Processing c:\\users\\user\\appdata\\local\\pip\\cache\\wheels\\90\\61\\ec\\9dbe9efc3acf9c4e37ba70fbbcc3f3a0ebd121060aa593181a\\pyldavis-3.3.1-py2.py3-none-any.whl\n",
      "Requirement already satisfied: funcy in c:\\users\\user\\anaconda3\\lib\\site-packages (from pyLDAvis) (1.16)\n",
      "Requirement already satisfied: numpy>=1.20.0 in c:\\users\\user\\anaconda3\\lib\\site-packages (from pyLDAvis) (1.21.0)\n",
      "Requirement already satisfied: scikit-learn in c:\\users\\user\\anaconda3\\lib\\site-packages (from pyLDAvis) (0.23.2)\n",
      "Requirement already satisfied: numexpr in c:\\users\\user\\anaconda3\\lib\\site-packages (from pyLDAvis) (2.7.1)\n",
      "Requirement already satisfied: setuptools in c:\\users\\user\\anaconda3\\lib\\site-packages (from pyLDAvis) (50.3.1.post20201107)\n",
      "Processing c:\\users\\user\\appdata\\local\\pip\\cache\\wheels\\22\\0b\\40\\fd3f795caaa1fb4c6cb738bc1f56100be1e57da95849bfc897\\sklearn-0.0-py2.py3-none-any.whl\n",
      "Requirement already satisfied: scipy in c:\\users\\user\\anaconda3\\lib\\site-packages (from pyLDAvis) (1.5.2)\n",
      "Requirement already satisfied: jinja2 in c:\\users\\user\\anaconda3\\lib\\site-packages (from pyLDAvis) (2.11.2)\n",
      "Requirement already satisfied: gensim in c:\\users\\user\\anaconda3\\lib\\site-packages (from pyLDAvis) (4.0.1)\n",
      "Requirement already satisfied: future in c:\\users\\user\\anaconda3\\lib\\site-packages (from pyLDAvis) (0.18.2)\n",
      "Collecting pandas>=1.2.0\n",
      "  Using cached pandas-1.2.5-cp38-cp38-win_amd64.whl (9.3 MB)\n",
      "Requirement already satisfied: joblib in c:\\users\\user\\anaconda3\\lib\\site-packages (from pyLDAvis) (0.17.0)\n",
      "Requirement already satisfied: threadpoolctl>=2.0.0 in c:\\users\\user\\anaconda3\\lib\\site-packages (from scikit-learn->pyLDAvis) (2.1.0)\n",
      "Requirement already satisfied: MarkupSafe>=0.23 in c:\\users\\user\\anaconda3\\lib\\site-packages (from jinja2->pyLDAvis) (1.1.1)\n",
      "Requirement already satisfied: smart-open>=1.8.1 in c:\\users\\user\\anaconda3\\lib\\site-packages (from gensim->pyLDAvis) (5.1.0)\n",
      "Requirement already satisfied: Cython==0.29.21 in c:\\users\\user\\anaconda3\\lib\\site-packages (from gensim->pyLDAvis) (0.29.21)\n",
      "Requirement already satisfied: pytz>=2017.3 in c:\\users\\user\\anaconda3\\lib\\site-packages (from pandas>=1.2.0->pyLDAvis) (2020.1)\n",
      "Requirement already satisfied: python-dateutil>=2.7.3 in c:\\users\\user\\anaconda3\\lib\\site-packages (from pandas>=1.2.0->pyLDAvis) (2.8.1)\n",
      "Requirement already satisfied: six>=1.5 in c:\\users\\user\\anaconda3\\lib\\site-packages (from python-dateutil>=2.7.3->pandas>=1.2.0->pyLDAvis) (1.15.0)\n",
      "Installing collected packages: sklearn, pandas, pyLDAvis\n",
      "  Attempting uninstall: pandas\n",
      "    Found existing installation: pandas 1.1.3\n",
      "    Uninstalling pandas-1.1.3:\n",
      "      Successfully uninstalled pandas-1.1.3\n"
     ]
    },
    {
     "name": "stderr",
     "output_type": "stream",
     "text": [
      "ERROR: Could not install packages due to an EnvironmentError: [WinError 5] Access is denied: 'C:\\\\Users\\\\user\\\\anaconda3\\\\Lib\\\\site-packages\\\\~andas\\\\_libs\\\\algos.cp38-win_amd64.pyd'\n",
      "Consider using the `--user` option or check the permissions.\n",
      "\n"
     ]
    }
   ],
   "source": [
    "!pip install pyLDAvis "
   ]
  },
  {
   "cell_type": "markdown",
   "metadata": {
    "id": "eylzfskkr8f7"
   },
   "source": [
    "**Anlayizing results**\n",
    "Exploring the Intertopic Distance Plot can help you learn about how topics relate to each other, including potential higher-level structure between groups of topics"
   ]
  },
  {
   "cell_type": "code",
   "execution_count": 38,
   "metadata": {
    "colab": {
     "base_uri": "https://localhost:8080/",
     "height": 915
    },
    "id": "6gJXbv8Jkjg-",
    "outputId": "26a2d031-8393-439a-e4f7-8341fca8075b"
   },
   "outputs": [
    {
     "data": {
      "text/html": [
       "\n",
       "<link rel=\"stylesheet\" type=\"text/css\" href=\"https://cdn.jsdelivr.net/gh/bmabey/pyLDAvis@3.3.1/pyLDAvis/js/ldavis.v1.0.0.css\">\n",
       "\n",
       "\n",
       "<div id=\"ldavis_el1696828387401944644043785378\"></div>\n",
       "<script type=\"text/javascript\">\n",
       "\n",
       "var ldavis_el1696828387401944644043785378_data = {\"mdsDat\": {\"x\": [-0.12330105696730223, -0.11969455460164044, -0.09996947568377512, -0.06039781300447415, 0.40336290025719196], \"y\": [0.04425726076898739, -0.0285436968566669, -0.23078609015641777, 0.23241166693941304, -0.017339140695315697], \"topics\": [1, 2, 3, 4, 5], \"cluster\": [1, 1, 1, 1, 1], \"Freq\": [33.155807621631155, 25.56028561760546, 15.128755964745217, 14.490311562785068, 11.664839233233103]}, \"tinfo\": {\"Term\": [\"india\", \"africa\", \"age\", \"capacity\", \"vaccines\", \"limit\", \"dose1\", \"min\", \"pin\", \"wave\", \"third\", \"we\", \"and\", \"in\", \"of\", \"need\", \"covaxin\", \"the\", \"cases\", \"doses\", \"amp\", \"pmcg\", \"0\", \"midst\", \"to\", \"risk\", \"hospital\", \"a\", \"you\", \"1845\", \"so\", \"up\", \"vaccination\", \"most\", \"pfizer\", \"support\", \"go\", \"his\", \"government\", \"ontario\", \"keeps\", \"viruses\", \"virologist\", \"vp\", \"michael\", \"credentialed\", \"former\", \"yeadon\", \"dangers\", \"speaking\", \"professionals\", \"him\", \"breaks\", \"httpstcolse8crkdqn\", \"lies\\u201d\", \"night\", \"\\u201clist\", \"administered\", \"these\", \"broad\", \"all\", \"been\", \"be\", \"will\", \"of\", \"the\", \"have\", \"medical\", \"on\", \"to\", \"is\", \"covid19\", \"vaccines\", \"that\", \"about\", \"are\", \"with\", \"a\", \"from\", \"in\", \"and\", \"at\", \"amp\", \"for\", \"one\", \"out\", \"vaccine\", \"this\", \"world\", \"need\", \"no\", \"other\", \"oxygen\", \"them\", \"countries\", \"head\", \"urgently\", \"public\", \"stand\", \"\\ud83d\\udd30\", \"wolfofwallst\", \"20\", \"each\", \"know\", \"free\", \"israel\", \"uk\", \"technology\", \"via\", \"failure\", \"indian\", \"dying\", \"money\", \"30\", \"best\", \"pay\", \"take\", \"risen\", \"kills\", \"we\", \"rich\", \"why\", \"dont\", \"retweet\", \"help\", \"whoindia\", \"week\", \"and\", \"who\", \"you\", \"to\", \"by\", \"the\", \"africa\", \"are\", \"health\", \"vaccines\", \"with\", \"in\", \"is\", \"of\", \"world\", \"covid19\", \"one\", \"a\", \"have\", \"india\", \"wave\", \"third\", \"midst\", \"moetitshidi\", \"coronavirus\", \"millions\", \"during\", \"critical\", \"calls\", \"curb\", \"httpstcokudpxpqq22\", \"muchneeded\", \"blown\", \"systems\", \"seen\", \"overwhelm\", \"action\", \"elsewhere\", \"surging\", \"urgent\", \"trajectory\", \"quickly\", \"rebound\", \"sobering\", \"we\\u2019ve\", \"rouse\", \"every\", \"economy\", \"folks\", \"time\", \"cases\", \"needs\", \"here\", \"africa\", \"doses\", \"now\", \"in\", \"amp\", \"of\", \"this\", \"covid19\", \"the\", \"more\", \"a\", \"how\", \"out\", \"for\", \"to\", \"and\", \"vaccine\", \"dr\", \"risk\", \"question\", \"delta\", \"variant\", \"america\", \"find\", \"children\", \"puts\", \"many\", \"still\", \"threat\", \"wecandothis\", \"call\", \"parts\", \"myocarditis\", \"youre\", \"zip\", \"438829\", \"code\", \"deadly\", \"little\", \"near\", \"cause\", \"surges\", \"i\\u2019m\", \"pleased\", \"remember\", \"18002320233\", \"search\", \"\\ud83d\\udd0d\", \"your\", \"it\\u2019s\", \"fully\", \"vaccinated\", \"3\", \"if\", \"to\", \"people\", \"where\", \"that\", \"could\", \"a\", \"covid19\", \"the\", \"south\", \"vaccine\", \"vaccines\", \"in\", \"you\", \"as\", \"covid\", \"of\", \"but\", \"are\", \"at\", \"there\", \"should\", \"for\", \"age\", \"capacity\", \"dose1\", \"limit\", \"min\", \"pin\", \"covaxin\", \"pmcg\", \"0\", \"hospital\", \"1845\", \"covishield\", \"4518\", \"dose2\", \"less\", \"2021\", \"increased\", \"covidvaccination\", \"bringing\", \"total\", \"past\", \"jab\", \"vax\", \"population\", \"dose2\\u2026\", \"good\", \"capacity\\u2026\", \"recorded\", \"code411038\", \"118\", \"department\", \"18\", \"june\", \"vaccines\", \"new\", \"deaths\", \"cases\"], \"Freq\": [1019.0, 1541.0, 616.0, 585.0, 3059.0, 562.0, 562.0, 562.0, 562.0, 637.0, 624.0, 952.0, 2462.0, 2844.0, 3971.0, 743.0, 430.0, 5591.0, 604.0, 673.0, 1023.0, 340.0, 328.0, 360.0, 4681.0, 338.0, 301.0, 2022.0, 1129.0, 277.0, 465.1210586211098, 423.29122343654257, 421.2212853472706, 253.769393252028, 250.67598524180482, 255.77258851091344, 246.88894050831908, 235.88238657798027, 226.10657427300896, 221.9901994284957, 202.3117969799296, 203.02950999340695, 202.23269259158212, 199.5306261125068, 199.52238507386613, 199.51162860191943, 199.51162860191943, 199.51162860191943, 194.75520774181572, 194.75561500244623, 194.676714244414, 189.8676848934529, 189.80706295077775, 189.80706295077775, 189.80706295077775, 189.80706295077775, 189.80706295077775, 190.23747754594586, 177.60566622182452, 175.37112296830807, 180.8155268158627, 343.6392851496088, 322.1001088802934, 346.3329069597281, 1870.6609589453751, 2391.9022449711338, 758.0327741570431, 241.2223160955581, 383.6386994086528, 1841.5185381392462, 852.0014089094874, 1209.4337491798158, 1118.3298336153157, 457.18196780318067, 344.54896165909713, 631.6047005455953, 476.1295530285704, 692.1617210849294, 328.06839363771564, 765.9605095903338, 677.7144137395672, 361.16047595143783, 401.2841286592917, 401.4361087439908, 321.02117964407125, 277.2966961369003, 301.5806653167318, 282.09937701332717, 275.5595139392537, 742.5074370704102, 401.5803685820274, 377.3600410360797, 353.58738784326107, 309.4061215193739, 324.471342328106, 279.3470603216641, 223.4690826069608, 221.28715031421794, 217.6200435802381, 236.11464569912664, 217.71907121561262, 208.28963465820797, 202.7299218037675, 199.57969056982992, 220.74746632299932, 189.08012023694204, 184.22649178303095, 179.94540262868074, 178.32825290165744, 174.20333265531298, 175.73353308965758, 167.43585940494708, 165.49990791704442, 160.19986096214996, 160.10332656265302, 159.87066148424046, 168.02452162984963, 158.3366380882169, 158.12063151914933, 936.2431674273421, 313.1143020058851, 356.9024312029133, 435.7487072795016, 176.4176585460504, 476.1445951467423, 176.4176585460504, 207.51728558857678, 1487.434236362764, 326.08071685287405, 699.0966175695218, 1606.6039671872459, 422.41949890970454, 1605.7167445831071, 685.6325528413687, 654.9882830121571, 335.57961311498656, 872.003744594704, 454.5150905774598, 761.8330070046738, 554.0619100037597, 793.9674562152913, 323.4961362001097, 539.5662735483634, 310.0502074544143, 384.87613144420504, 302.5280040012854, 1018.9824609418145, 637.0309681647808, 624.1310368845074, 359.86058017631814, 234.03723477479, 226.37051929666677, 231.04996143254803, 221.1986711487296, 208.01417934574962, 207.35714973689133, 207.22099093730495, 206.2427157598657, 206.2427157598657, 134.26505980170302, 122.47967181027248, 115.4216591865943, 111.4519786802204, 109.1424495362086, 105.05866935497258, 103.34884670284487, 101.20464075126598, 100.90009802836325, 99.84141307814319, 99.80329604746258, 99.80329604746258, 79.18106969557705, 77.79083653799873, 69.39196143901034, 60.76748314595778, 55.37158949735249, 216.55416506964653, 510.9441594212784, 215.59195872934535, 235.50907466954817, 855.4360665114635, 432.78056958640303, 245.32129690987574, 999.0947061557292, 464.92292240835087, 1033.4324337909181, 294.4693328686035, 716.9132895648911, 1001.0580338432783, 315.08945496800663, 524.2952861584985, 161.26769121880812, 221.72572900685878, 296.67056679524995, 418.2927748485254, 296.9887079082206, 239.77542744798166, 219.81578921086242, 337.7605042475496, 161.04329717730752, 158.19106160786492, 153.42580134321727, 137.41920060753228, 134.08473292812482, 135.16871080521705, 132.09753961729652, 128.43058002282027, 121.05024786477429, 116.88771753578433, 115.93248774823458, 111.03810247843708, 108.48974464753896, 108.33622482669146, 107.05531901463908, 106.76339787674985, 106.63137271539904, 106.63137271539904, 106.9727640267524, 105.2700791802022, 104.54641168397647, 104.39122715252986, 104.2595789067864, 103.98769711535438, 103.75754825755791, 102.63446538620356, 102.42280633292299, 101.95098128167207, 101.95098128167207, 288.1848362928835, 112.16969736059067, 137.92405812381585, 240.98880408543846, 119.15515807055212, 177.25934782201892, 797.1765932951487, 260.6283896615487, 141.04376766606012, 277.749487968643, 157.93394234438728, 420.6146584276892, 471.16230797467597, 593.045633560586, 153.41729980229604, 232.52166718324517, 325.6593564568888, 317.6599508836556, 229.3212977010289, 172.97367078820673, 161.56917820857862, 273.08720942382456, 147.47092213264077, 195.41256670056148, 165.90926719826234, 150.06417480032496, 136.6770118971567, 137.28617033789521, 615.4484294152633, 584.9475728106296, 561.7009648813122, 561.7009648813122, 561.7009648813122, 561.7009648813122, 430.012519416789, 339.24277793463506, 327.97902745748996, 300.24378278358313, 276.6637829707194, 237.04238775311973, 216.3683150716422, 167.24526802967497, 165.18767136301494, 166.9913386468384, 121.02086602314431, 127.67643201385997, 112.4501509394317, 108.28238154762333, 104.83617178121409, 117.35242590499406, 96.40121215984045, 88.90021505741564, 85.17815376515472, 91.37297547672321, 81.95104743197105, 82.55352287487884, 80.88438051403253, 81.47219905317131, 82.15076565607141, 130.58542706529903, 142.04933404083775, 743.6268709186518, 131.94787856108098, 102.06114538153379, 93.23044093004499], \"Total\": [1019.0, 1541.0, 616.0, 585.0, 3059.0, 562.0, 562.0, 562.0, 562.0, 637.0, 624.0, 952.0, 2462.0, 2844.0, 3971.0, 743.0, 430.0, 5591.0, 604.0, 673.0, 1023.0, 340.0, 328.0, 360.0, 4681.0, 338.0, 301.0, 2022.0, 1129.0, 277.0, 466.03371293812324, 424.1429525942642, 422.07082357256047, 254.62594119715774, 251.52244534411625, 256.6423321173914, 247.7721023507086, 236.72810348872804, 226.9552938255202, 222.8376826896009, 203.15798916119053, 203.87979938147924, 203.08350708957076, 200.37537426405248, 200.36713406067665, 200.3563752596477, 200.3563752596477, 200.3563752596477, 195.59995701566706, 195.6003904926529, 195.5214610283912, 190.71243218995292, 190.65181026531334, 190.65181026531334, 190.65181026531334, 190.65181026531334, 190.65181026531334, 191.08641500665058, 178.45482575520919, 176.21601890912146, 181.69446302669635, 351.7997294520312, 330.76016725794113, 417.22420363079834, 3971.3480431296734, 5591.922660396313, 1237.1754071740545, 264.55267101169943, 510.1168684904581, 4681.441120835391, 1698.76822309173, 2988.168588046841, 3059.7870078310525, 773.6317679342886, 492.56855881910496, 1482.3716785749166, 931.2400390237832, 2022.1463361932526, 516.010337591382, 2844.748193715303, 2462.8795727021193, 748.3785141058241, 1023.5474325049904, 1172.8457777343042, 631.6732663548931, 513.8611493936723, 907.7552482064399, 605.1815114121988, 599.6482187442409, 743.2837319830456, 402.3663938259277, 378.14859442157046, 354.35669524383184, 310.18542396316656, 325.30021508601806, 280.12043886542494, 224.24117510962606, 222.06788315672938, 218.38988395328062, 236.97345195885126, 218.5350279592137, 209.07556074001815, 203.499427850823, 200.3583834153183, 221.6311864141186, 189.85352718703157, 185.01039696293668, 180.72076757248902, 179.10073330609166, 174.97637730399322, 176.5291021658245, 168.2089584450254, 166.27062034785803, 160.96938679092722, 160.87402762986335, 160.64058460573915, 168.83536125334888, 159.1061898148524, 158.89037115923702, 952.5722630970267, 317.41524854068314, 364.9628755476202, 450.0518334596249, 178.0152618857325, 515.5540323889204, 178.0152618857325, 216.9454140761689, 2462.8795727021193, 386.3259857912491, 1129.6035590026165, 4681.441120835391, 652.9884672162672, 5591.922660396313, 1541.6884007915169, 1482.3716785749166, 492.05650405045145, 3059.7870078310525, 931.2400390237832, 2844.748193715303, 1698.76822309173, 3971.3480431296734, 599.6482187442409, 2988.168588046841, 631.6732663548931, 2022.1463361932526, 1237.1754071740545, 1019.8662474043383, 637.891018155008, 624.9911658806317, 360.7217133733456, 234.89729710871356, 227.23668907640678, 231.9501255928402, 222.06066586216238, 208.87196980942096, 208.2154349993404, 208.0787553393292, 207.10035574406513, 207.10035574406513, 135.123193693015, 123.33942385729372, 116.27971553066826, 112.3132069756298, 110.00138331754866, 105.91638620209326, 104.20779214662983, 102.06263303268437, 101.75821346169701, 100.69907502465624, 100.66093562662994, 100.66093562662994, 80.0390122314662, 78.6484761405611, 70.31369413750973, 61.628447350059126, 56.23513203302989, 239.10770823800377, 604.8523461918853, 243.49179783810618, 272.06075456903477, 1541.6884007915169, 673.7273051499837, 330.34753080757406, 2844.748193715303, 1023.5474325049904, 3971.3480431296734, 605.1815114121988, 2988.168588046841, 5591.922660396313, 713.6378357201545, 2022.1463361932526, 228.8128247753081, 513.8611493936723, 1172.8457777343042, 4681.441120835391, 2462.8795727021193, 907.7552482064399, 615.9326275150195, 338.55436051247506, 161.83771914743983, 158.9843340481368, 154.21911163163324, 138.22206494869923, 134.88001836556592, 135.97654097459025, 132.88981146401076, 129.22689115428938, 121.84559256948579, 117.68043897297267, 116.72501329500325, 111.83084834030248, 109.28317845344354, 109.13455947190582, 107.84778547421337, 107.55564049365931, 107.42361279640544, 107.42361279640544, 107.76985779444144, 106.06518443351011, 105.3387525809611, 105.18375722677145, 105.05217367438787, 104.78014971969992, 104.54980241181399, 103.42672153452199, 103.21499727099334, 102.74319349568674, 102.74319349568674, 303.178149997855, 114.81606597794917, 153.29162712093247, 373.75215461866736, 130.6609679014561, 265.73841744108637, 4681.441120835391, 583.0874884214438, 191.7886639229618, 773.6317679342886, 246.84941771112048, 2022.1463361932526, 2988.168588046841, 5591.922660396313, 278.4360465080097, 907.7552482064399, 3059.7870078310525, 2844.748193715303, 1129.6035590026165, 465.1495250977593, 402.22903644680196, 3971.3480431296734, 308.9495036954538, 1482.3716785749166, 748.3785141058241, 351.51310683914767, 248.75025125274757, 1172.8457777343042, 616.2767593585928, 585.7737432363992, 562.5259656259699, 562.5259656259699, 562.5259656259699, 562.5259656259699, 430.8375782868131, 340.0677712404304, 328.80403165805967, 301.0705880476231, 277.4887773693831, 237.8673874367607, 217.193308007498, 168.070285345928, 166.07087583893227, 167.9280506222737, 121.85952796647197, 128.57780964974953, 113.28053408302004, 109.11376041262821, 105.67239354703308, 118.3426497409583, 97.23123461189789, 89.74766212881977, 86.0031486372724, 92.28307521839906, 82.77604098439275, 83.39076271266416, 81.70937627835377, 82.30946998403125, 83.17765995248378, 147.25051334571185, 166.58980088135183, 3059.7870078310525, 271.2324152357378, 252.76996614036034, 604.8523461918853], \"Category\": [\"Default\", \"Default\", \"Default\", \"Default\", \"Default\", \"Default\", \"Default\", \"Default\", \"Default\", \"Default\", \"Default\", \"Default\", \"Default\", \"Default\", \"Default\", \"Default\", \"Default\", \"Default\", \"Default\", \"Default\", \"Default\", \"Default\", \"Default\", \"Default\", \"Default\", \"Default\", \"Default\", \"Default\", \"Default\", \"Default\", \"Topic1\", \"Topic1\", \"Topic1\", \"Topic1\", \"Topic1\", \"Topic1\", \"Topic1\", \"Topic1\", \"Topic1\", \"Topic1\", \"Topic1\", \"Topic1\", \"Topic1\", \"Topic1\", \"Topic1\", \"Topic1\", \"Topic1\", \"Topic1\", \"Topic1\", \"Topic1\", \"Topic1\", \"Topic1\", \"Topic1\", \"Topic1\", \"Topic1\", \"Topic1\", \"Topic1\", \"Topic1\", \"Topic1\", \"Topic1\", \"Topic1\", \"Topic1\", \"Topic1\", \"Topic1\", \"Topic1\", \"Topic1\", \"Topic1\", \"Topic1\", \"Topic1\", \"Topic1\", \"Topic1\", \"Topic1\", \"Topic1\", \"Topic1\", \"Topic1\", \"Topic1\", \"Topic1\", \"Topic1\", \"Topic1\", \"Topic1\", \"Topic1\", \"Topic1\", \"Topic1\", \"Topic1\", \"Topic1\", \"Topic1\", \"Topic1\", \"Topic1\", \"Topic1\", \"Topic2\", \"Topic2\", \"Topic2\", \"Topic2\", \"Topic2\", \"Topic2\", \"Topic2\", \"Topic2\", \"Topic2\", \"Topic2\", \"Topic2\", \"Topic2\", \"Topic2\", \"Topic2\", \"Topic2\", \"Topic2\", \"Topic2\", \"Topic2\", \"Topic2\", \"Topic2\", \"Topic2\", \"Topic2\", \"Topic2\", \"Topic2\", \"Topic2\", \"Topic2\", \"Topic2\", \"Topic2\", \"Topic2\", \"Topic2\", \"Topic2\", \"Topic2\", \"Topic2\", \"Topic2\", \"Topic2\", \"Topic2\", \"Topic2\", \"Topic2\", \"Topic2\", \"Topic2\", \"Topic2\", \"Topic2\", \"Topic2\", \"Topic2\", \"Topic2\", \"Topic2\", \"Topic2\", \"Topic2\", \"Topic2\", \"Topic2\", \"Topic2\", \"Topic2\", \"Topic2\", \"Topic2\", \"Topic2\", \"Topic2\", \"Topic2\", \"Topic3\", \"Topic3\", \"Topic3\", \"Topic3\", \"Topic3\", \"Topic3\", \"Topic3\", \"Topic3\", \"Topic3\", \"Topic3\", \"Topic3\", \"Topic3\", \"Topic3\", \"Topic3\", \"Topic3\", \"Topic3\", \"Topic3\", \"Topic3\", \"Topic3\", \"Topic3\", \"Topic3\", \"Topic3\", \"Topic3\", \"Topic3\", \"Topic3\", \"Topic3\", \"Topic3\", \"Topic3\", \"Topic3\", \"Topic3\", \"Topic3\", \"Topic3\", \"Topic3\", \"Topic3\", \"Topic3\", \"Topic3\", \"Topic3\", \"Topic3\", \"Topic3\", \"Topic3\", \"Topic3\", \"Topic3\", \"Topic3\", \"Topic3\", \"Topic3\", \"Topic3\", \"Topic3\", \"Topic3\", \"Topic3\", \"Topic3\", \"Topic3\", \"Topic3\", \"Topic4\", \"Topic4\", \"Topic4\", \"Topic4\", \"Topic4\", \"Topic4\", \"Topic4\", \"Topic4\", \"Topic4\", \"Topic4\", \"Topic4\", \"Topic4\", \"Topic4\", \"Topic4\", \"Topic4\", \"Topic4\", \"Topic4\", \"Topic4\", \"Topic4\", \"Topic4\", \"Topic4\", \"Topic4\", \"Topic4\", \"Topic4\", \"Topic4\", \"Topic4\", \"Topic4\", \"Topic4\", \"Topic4\", \"Topic4\", \"Topic4\", \"Topic4\", \"Topic4\", \"Topic4\", \"Topic4\", \"Topic4\", \"Topic4\", \"Topic4\", \"Topic4\", \"Topic4\", \"Topic4\", \"Topic4\", \"Topic4\", \"Topic4\", \"Topic4\", \"Topic4\", \"Topic4\", \"Topic4\", \"Topic4\", \"Topic4\", \"Topic4\", \"Topic4\", \"Topic4\", \"Topic4\", \"Topic4\", \"Topic4\", \"Topic4\", \"Topic4\", \"Topic5\", \"Topic5\", \"Topic5\", \"Topic5\", \"Topic5\", \"Topic5\", \"Topic5\", \"Topic5\", \"Topic5\", \"Topic5\", \"Topic5\", \"Topic5\", \"Topic5\", \"Topic5\", \"Topic5\", \"Topic5\", \"Topic5\", \"Topic5\", \"Topic5\", \"Topic5\", \"Topic5\", \"Topic5\", \"Topic5\", \"Topic5\", \"Topic5\", \"Topic5\", \"Topic5\", \"Topic5\", \"Topic5\", \"Topic5\", \"Topic5\", \"Topic5\", \"Topic5\", \"Topic5\", \"Topic5\", \"Topic5\", \"Topic5\"], \"logprob\": [30.0, 29.0, 28.0, 27.0, 26.0, 25.0, 24.0, 23.0, 22.0, 21.0, 20.0, 19.0, 18.0, 17.0, 16.0, 15.0, 14.0, 13.0, 12.0, 11.0, 10.0, 9.0, 8.0, 7.0, 6.0, 5.0, 4.0, 3.0, 2.0, 1.0, -4.706, -4.8002, -4.8051, -5.3119, -5.3241, -5.304, -5.3394, -5.385, -5.4273, -5.4457, -5.5385, -5.5349, -5.5389, -5.5523, -5.5524, -5.5524, -5.5524, -5.5524, -5.5765, -5.5765, -5.577, -5.602, -5.6023, -5.6023, -5.6023, -5.6023, -5.6023, -5.6, -5.6687, -5.6814, -5.6508, -5.0087, -5.0734, -5.0009, -3.3142, -3.0684, -4.2176, -5.3626, -4.8986, -3.3299, -4.1007, -3.7504, -3.8287, -4.7232, -5.0061, -4.4, -4.6826, -4.3085, -5.0551, -4.2072, -4.3296, -4.959, -4.8536, -4.8532, -5.0768, -5.2232, -5.1393, -5.206, -5.2295, -3.9781, -4.5927, -4.6549, -4.72, -4.8535, -4.8059, -4.9557, -5.1788, -5.1887, -5.2054, -5.1238, -5.2049, -5.2492, -5.2762, -5.2919, -5.1911, -5.3459, -5.3719, -5.3955, -5.4045, -5.4279, -5.4191, -5.4675, -5.4791, -5.5117, -5.5123, -5.5137, -5.464, -5.5234, -5.5248, -3.7462, -4.8415, -4.7107, -4.511, -5.4153, -4.4224, -5.4153, -5.2529, -3.2833, -4.801, -4.0383, -3.2062, -4.5421, -3.2068, -4.0578, -4.1035, -4.7723, -3.8173, -4.4689, -3.9524, -4.2708, -3.9111, -4.8089, -4.2973, -4.8514, -4.6352, -4.8759, -3.1371, -3.6069, -3.6273, -4.178, -4.6082, -4.6415, -4.621, -4.6646, -4.7261, -4.7292, -4.7299, -4.7346, -4.7346, -5.1639, -5.2557, -5.3151, -5.3501, -5.371, -5.4092, -5.4256, -5.4465, -5.4495, -5.4601, -5.4605, -5.4605, -5.6919, -5.7096, -5.8239, -5.9566, -6.0496, -4.6858, -3.8274, -4.6903, -4.6019, -3.3121, -3.9934, -4.5611, -3.1568, -3.9218, -3.123, -4.3785, -3.4887, -3.1549, -4.3108, -3.8016, -4.9806, -4.6622, -4.371, -4.0275, -4.37, -4.584, -4.6709, -4.1982, -4.9389, -4.9568, -4.9873, -5.0975, -5.1221, -5.114, -5.137, -5.1652, -5.2243, -5.2593, -5.2675, -5.3107, -5.3339, -5.3353, -5.3472, -5.3499, -5.3512, -5.3512, -5.348, -5.364, -5.3709, -5.3724, -5.3737, -5.3763, -5.3785, -5.3894, -5.3914, -5.3961, -5.3961, -4.357, -5.3005, -5.0939, -4.5358, -5.2401, -4.8429, -3.3395, -4.4575, -5.0715, -4.3938, -4.9584, -3.9788, -3.8654, -3.6353, -4.9874, -4.5716, -4.2347, -4.2596, -4.5854, -4.8674, -4.9356, -4.4108, -5.0269, -4.7454, -4.9091, -5.0095, -5.1029, -5.0985, -3.3813, -3.4321, -3.4727, -3.4727, -3.4727, -3.4727, -3.7398, -3.9769, -4.0107, -4.0991, -4.1809, -4.3354, -4.4267, -4.6842, -4.6966, -4.6857, -5.0077, -4.9542, -5.0811, -5.1189, -5.1513, -5.0385, -5.2351, -5.3161, -5.3589, -5.2887, -5.3975, -5.3902, -5.4106, -5.4034, -5.3951, -4.9316, -4.8475, -3.1921, -4.9212, -5.1781, -5.2686], \"loglift\": [30.0, 29.0, 28.0, 27.0, 26.0, 25.0, 24.0, 23.0, 22.0, 21.0, 20.0, 19.0, 18.0, 17.0, 16.0, 15.0, 14.0, 13.0, 12.0, 11.0, 10.0, 9.0, 8.0, 7.0, 6.0, 5.0, 4.0, 3.0, 2.0, 1.0, 1.102, 1.1019, 1.1019, 1.1006, 1.1006, 1.1006, 1.1004, 1.1004, 1.1002, 1.1001, 1.0998, 1.0998, 1.0998, 1.0997, 1.0997, 1.0997, 1.0997, 1.0997, 1.0996, 1.0996, 1.0996, 1.0995, 1.0995, 1.0995, 1.0995, 1.0995, 1.0995, 1.0995, 1.0992, 1.0991, 1.0991, 1.0805, 1.0774, 0.9177, 0.3511, 0.2547, 0.6141, 1.0116, 0.819, 0.1709, 0.4139, 0.1994, 0.0974, 0.5779, 0.7466, 0.2508, 0.4331, 0.0319, 0.651, -0.2081, -0.1864, 0.3754, 0.1676, 0.0318, 0.4271, 0.4871, 0.002, 0.3407, 0.3264, 1.3631, 1.3622, 1.362, 1.362, 1.3616, 1.3616, 1.3614, 1.3607, 1.3606, 1.3606, 1.3605, 1.3604, 1.3604, 1.3603, 1.3602, 1.3601, 1.36, 1.3599, 1.3598, 1.3598, 1.3597, 1.3596, 1.3595, 1.3595, 1.3593, 1.3593, 1.3593, 1.3593, 1.3593, 1.3593, 1.3468, 1.3505, 1.3418, 1.3318, 1.3551, 1.2846, 1.3551, 1.3197, 0.8599, 1.1946, 0.8843, 0.2946, 0.9286, 0.1164, 0.5538, 0.5473, 0.9814, 0.1088, 0.6468, 0.0466, 0.2437, -0.2457, 0.747, -0.3475, 0.6525, -0.2949, -0.0443, 1.8877, 1.8872, 1.8872, 1.8862, 1.8849, 1.8848, 1.8847, 1.8847, 1.8845, 1.8844, 1.8844, 1.8844, 1.8844, 1.8822, 1.8816, 1.8812, 1.8809, 1.8807, 1.8804, 1.8803, 1.8801, 1.8801, 1.88, 1.88, 1.88, 1.8778, 1.8776, 1.8754, 1.8745, 1.8731, 1.7895, 1.7198, 1.7669, 1.7443, 1.2996, 1.446, 1.591, 0.8422, 1.0994, 0.5424, 1.1682, 0.4611, 0.1683, 1.0711, 0.5387, 1.5387, 1.0481, 0.514, -0.5266, -0.2268, 0.5573, 0.8582, 1.9293, 1.9268, 1.9267, 1.9265, 1.9259, 1.9258, 1.9257, 1.9257, 1.9255, 1.9251, 1.9249, 1.9249, 1.9246, 1.9244, 1.9243, 1.9243, 1.9243, 1.9243, 1.9243, 1.9243, 1.9242, 1.9241, 1.9241, 1.9241, 1.9241, 1.9241, 1.924, 1.924, 1.9239, 1.9239, 1.881, 1.9084, 1.8261, 1.4928, 1.8395, 1.5268, 0.1614, 1.1264, 1.6244, 0.9073, 1.4851, 0.3615, 0.0845, -0.3121, 1.3357, 0.5697, -0.3086, -0.2606, 0.3372, 0.9425, 1.0196, -0.7454, 1.1921, -0.0946, 0.4252, 1.0805, 1.3329, -0.2134, 2.1472, 2.1472, 2.1471, 2.1471, 2.1471, 2.1471, 2.1467, 2.1462, 2.1461, 2.1458, 2.1456, 2.1451, 2.1448, 2.1437, 2.1433, 2.143, 2.1417, 2.1416, 2.1412, 2.1409, 2.1406, 2.1402, 2.14, 2.1391, 2.139, 2.1387, 2.1386, 2.1385, 2.1384, 2.1384, 2.1362, 2.0285, 1.9892, 0.734, 1.428, 1.2417, 0.2787]}, \"token.table\": {\"Topic\": [5, 5, 3, 5, 4, 5, 2, 5, 2, 4, 2, 4, 5, 1, 2, 3, 4, 1, 2, 4, 3, 1, 2, 3, 5, 1, 4, 1, 2, 3, 1, 2, 3, 4, 1, 2, 4, 1, 3, 4, 1, 2, 4, 1, 3, 1, 2, 2, 3, 1, 5, 1, 1, 2, 4, 1, 2, 4, 3, 5, 5, 3, 5, 4, 4, 4, 5, 3, 1, 2, 4, 2, 5, 1, 2, 4, 1, 2, 3, 4, 5, 5, 5, 1, 3, 3, 1, 4, 1, 2, 5, 4, 5, 2, 4, 5, 5, 5, 1, 2, 3, 1, 2, 3, 4, 3, 2, 2, 3, 3, 3, 2, 4, 3, 1, 2, 3, 4, 5, 1, 2, 1, 3, 4, 4, 5, 1, 5, 1, 1, 2, 3, 4, 2, 1, 2, 3, 1, 2, 3, 5, 1, 1, 5, 1, 3, 3, 1, 1, 2, 4, 1, 2, 3, 4, 5, 3, 2, 1, 2, 3, 4, 2, 1, 4, 4, 5, 3, 5, 1, 2, 2, 5, 1, 5, 4, 4, 1, 5, 1, 3, 3, 5, 3, 2, 1, 2, 3, 1, 3, 4, 4, 2, 3, 4, 1, 4, 5, 1, 2, 3, 4, 5, 1, 2, 3, 4, 1, 4, 5, 1, 2, 1, 2, 1, 2, 3, 3, 2, 4, 5, 2, 1, 2, 4, 1, 5, 4, 5, 5, 1, 2, 4, 4, 3, 3, 5, 4, 2, 3, 1, 2, 2, 4, 3, 4, 3, 3, 4, 1, 3, 3, 4, 1, 2, 4, 1, 4, 3, 3, 2, 2, 1, 2, 4, 1, 2, 3, 4, 2, 1, 4, 1, 3, 1, 3, 4, 4, 3, 5, 1, 2, 3, 4, 5, 5, 3, 2, 1, 3, 2, 1, 4, 1, 1, 2, 3, 4, 5, 1, 2, 4, 5, 4, 5, 2, 1, 1, 1, 3, 2, 5, 4, 2, 5, 3, 3, 4, 1, 2, 4, 2, 3, 2, 5, 1, 2, 1, 2, 2, 1, 2, 1, 1, 2, 4, 1, 4, 4, 4, 1, 4, 2], \"Freq\": [0.9975546782257956, 0.9840908951997225, 0.10865836482644727, 0.889640362016537, 0.988228481295181, 0.9982385688746883, 0.9948556362292598, 0.994473522327957, 0.0841873451319919, 0.9107540064279124, 0.9939778189489764, 0.9960566137613683, 0.9945057791216256, 0.34221064401437407, 0.19039176003689887, 0.259130603271, 0.20819462591047902, 0.700410113116255, 0.14617254534600105, 0.15429324230966776, 0.990896629775483, 0.9943145356167116, 0.44496669991666365, 0.5545867761352004, 0.9979282695003433, 0.9961778525601283, 0.9911586840411276, 0.3917747114255449, 0.1533881039745899, 0.454302346166779, 0.27528751609082547, 0.6037648029897603, 0.12059054908403416, 0.0004060287847947278, 0.42634381723183995, 0.4418594941247708, 0.13154595626615315, 0.552510507123461, 0.07524462159268923, 0.37192341530100675, 0.48237622165212635, 0.2953051107621051, 0.22181288862673953, 0.973515047683751, 0.024186709259223626, 0.9778290635294683, 0.022740210779755077, 0.9945670059813863, 0.991687632135407, 0.99658114830168, 0.9886959035514294, 0.9930992714700438, 0.4887530104235023, 0.032367749034669026, 0.4758059108096347, 0.35222674143159854, 0.6462594994962373, 0.992570490587944, 0.9941626085532792, 0.9986791090496404, 0.9906248115376879, 0.8448342859496634, 0.15375653345072152, 0.9887458172442032, 0.992818312867859, 0.9960566137613683, 0.9913183001674473, 0.9945577050896436, 0.3200331632641363, 0.04051052699546029, 0.6400663265282726, 0.9960030303525184, 0.9980559302878277, 0.12430728632047156, 0.47236768801779194, 0.40275560767832785, 0.40459564592044645, 0.18071269544833837, 0.23994630117862706, 0.15762162880771735, 0.017067310125676402, 0.9955061479790058, 0.9963534831482886, 0.9982212931373615, 0.9958253383150618, 0.9948156392152097, 0.9969327344196758, 0.9928564645978298, 0.015824664856658028, 0.577600267268018, 0.4035289538447797, 0.9938086097977505, 0.9858416315972759, 0.96877729982432, 0.03110752797601028, 0.999064993159232, 0.9936319180768624, 0.9883359080083999, 0.3116988110690426, 0.046012681634001525, 0.6426932628233116, 0.33120505536951034, 0.24840379152713274, 0.35718192245731506, 0.06331861352652403, 0.9952235311100942, 0.9928127582727974, 0.99754580218678, 0.9898026418467197, 0.9913480223886721, 0.9813166673487445, 0.9944199478864686, 0.9934755468139039, 0.9780362917561137, 0.3419034348869373, 0.21656726299571588, 0.2532302248414473, 0.11680990169453967, 0.07076804263245834, 0.9982212931373615, 0.9971520866520147, 0.6356461801347407, 0.20929813248339024, 0.15503565369140018, 0.9002448639359224, 0.09785270260173069, 0.9968838204810656, 0.986096310560062, 0.9957908281872702, 0.612685958356881, 0.24491272477854212, 0.03152342002100047, 0.1107361164840273, 0.996000153112843, 0.022355156185217603, 0.6828484071121013, 0.2946816042596866, 0.07564677521633548, 0.9232785898198894, 0.867453302384029, 0.13232338510942815, 0.9962643641960198, 0.9969243048121547, 0.9964440629868043, 0.2928157548240285, 0.70363188845774, 0.9946868476390984, 0.99658114830168, 0.12794536946295215, 0.2032073514999828, 0.6660685410277214, 0.26926812070476697, 0.2678620208577447, 0.3511734367938149, 0.11178493783827141, 0.9929465674058047, 0.9991506264605354, 0.9970027482192286, 0.5015398736676238, 0.32611865024866615, 0.11714370288715625, 0.05533421141403361, 0.9955042858582726, 0.017419165018109112, 0.9754732410141104, 0.9925544130086956, 0.9886545573899416, 0.14406644268152538, 0.8523931191990252, 0.9943000560008902, 0.994396317707983, 0.9982112881467236, 0.9935516939166933, 0.99658114830168, 0.999064993159232, 0.9899572660039275, 0.990505914494031, 0.9109717134148388, 0.08693920916407176, 0.9981676932077819, 0.9979992516486008, 0.9959037504704437, 0.999064993159232, 0.9961800449823895, 0.9923581186790562, 0.24382115309849162, 0.3138847028394375, 0.44140036336795896, 0.9975417225981972, 0.9946868476390984, 0.9896040312308414, 0.9967841599348659, 0.9996182723086261, 0.8870935362825444, 0.11088669203531805, 0.3465662462147131, 0.16590937318789456, 0.4866674946844907, 0.99658114830168, 0.9990894025158419, 0.7416432004231065, 0.08778633800926566, 0.16951844581099576, 0.47112466086591936, 0.19993211155934795, 0.26011318796071337, 0.0687424010777103, 0.7527686765903975, 0.14506479705127454, 0.10193742495494966, 0.5081741100938922, 0.4907600440159084, 0.9962408391637794, 0.9969625844482447, 0.5390561250385335, 0.02724471390086451, 0.4320233204279944, 0.9883076353085106, 0.998993400580208, 0.9882582253590821, 0.9936369989884463, 0.9960123115381375, 0.3961669639411605, 0.15606577367379051, 0.44761721899845414, 0.9979228679038904, 0.999064993159232, 0.9947412391115924, 0.9968601222146528, 0.9916692857386457, 0.9973329729347947, 0.9951911859493175, 0.9933041408200678, 0.9948237088865752, 0.9930577810721194, 0.9934340404992711, 0.9953140767639865, 0.9958741655136042, 0.9886792746622697, 0.005617495878762896, 0.012601789039405016, 0.9860899923334425, 0.9930474746699696, 0.9983625657290726, 0.9917547526362477, 0.9927664941063182, 0.9889945075559569, 0.44623070505852985, 0.550753212549717, 0.9977818923622367, 0.9934340404992711, 0.4453446367851402, 0.5494978179687617, 0.996930525081567, 0.9982147343722019, 0.9930601300247807, 0.9974971700417, 0.9899842750741255, 0.9884097712680607, 0.9891403428408789, 0.9950522139014744, 0.9960117058920751, 0.5907203128695938, 0.04911897568718723, 0.359344085290475, 0.42775985028206254, 0.2871999663683079, 0.17900819821586314, 0.10604581572628057, 0.9961783376277947, 0.5718136709251572, 0.4267266200934009, 0.9974513115390161, 0.9984141121751136, 0.4659759009192951, 0.4858046626605417, 0.0462671107295754, 0.9942179092896744, 0.9075407965685568, 0.09200874435257257, 0.39346858210005636, 0.3432703645140014, 0.08928874447221691, 0.17024672091951407, 0.003844969857655274, 0.9897926676853921, 0.9925488721165254, 0.9945387017188061, 0.9973052656250131, 0.9895884223137367, 0.9944649990840475, 0.35317522151725717, 0.6448123362549922, 0.9974629291750218, 0.3326887953517177, 0.11566994540374291, 0.2643884466371267, 0.2566771169435438, 0.03194693730198614, 0.365384909844591, 0.2849871568734198, 0.10654336369350328, 0.24315417971768846, 0.992094938047982, 0.9873370464047648, 0.9938541105568203, 0.9946647213990998, 0.9956847152873981, 0.998126644726523, 0.9986031812180313, 0.9826026184689164, 0.016796625956733615, 0.9937887066830234, 0.9587665214576594, 0.04148508987076411, 0.9870186774861556, 0.2607036254243063, 0.7351842236965438, 0.08542008876884487, 0.8438469375346493, 0.06988916353814581, 0.9886792746622697, 0.005617495878762896, 0.9781816834502084, 0.019180033008827615, 0.8292903359608911, 0.16777550149497797, 0.5111464069983392, 0.4885958302190007, 0.997551751935559, 0.4602698571805784, 0.5386491444540826, 0.9982212931373615, 0.17793853285791075, 0.6188011665058687, 0.20272599017145054, 0.04617747024348243, 0.949936530723067, 0.9921390553316825, 0.9948339251097476, 0.99658114830168, 0.9927664941063182, 0.9958921476190493], \"Term\": [\"0\", \"118\", \"18\", \"18\", \"18002320233\", \"1845\", \"20\", \"2021\", \"3\", \"3\", \"30\", \"438829\", \"4518\", \"a\", \"a\", \"a\", \"a\", \"about\", \"about\", \"about\", \"action\", \"administered\", \"africa\", \"africa\", \"age\", \"all\", \"america\", \"amp\", \"amp\", \"amp\", \"and\", \"and\", \"and\", \"and\", \"are\", \"are\", \"are\", \"as\", \"as\", \"as\", \"at\", \"at\", \"at\", \"be\", \"be\", \"been\", \"been\", \"best\", \"blown\", \"breaks\", \"bringing\", \"broad\", \"but\", \"but\", \"but\", \"by\", \"by\", \"call\", \"calls\", \"capacity\", \"capacity\\u2026\", \"cases\", \"cases\", \"cause\", \"children\", \"code\", \"code411038\", \"coronavirus\", \"could\", \"could\", \"could\", \"countries\", \"covaxin\", \"covid\", \"covid\", \"covid\", \"covid19\", \"covid19\", \"covid19\", \"covid19\", \"covid19\", \"covidvaccination\", \"covishield\", \"credentialed\", \"critical\", \"curb\", \"dangers\", \"deadly\", \"deaths\", \"deaths\", \"deaths\", \"delta\", \"department\", \"dont\", \"dont\", \"dose1\", \"dose2\", \"dose2\\u2026\", \"doses\", \"doses\", \"doses\", \"dr\", \"dr\", \"dr\", \"dr\", \"during\", \"dying\", \"each\", \"economy\", \"elsewhere\", \"every\", \"failure\", \"find\", \"folks\", \"for\", \"for\", \"for\", \"for\", \"for\", \"former\", \"free\", \"from\", \"from\", \"from\", \"fully\", \"fully\", \"go\", \"good\", \"government\", \"have\", \"have\", \"have\", \"have\", \"head\", \"health\", \"health\", \"health\", \"help\", \"help\", \"here\", \"here\", \"him\", \"his\", \"hospital\", \"how\", \"how\", \"httpstcokudpxpqq22\", \"httpstcolse8crkdqn\", \"if\", \"if\", \"if\", \"in\", \"in\", \"in\", \"in\", \"increased\", \"india\", \"indian\", \"is\", \"is\", \"is\", \"is\", \"israel\", \"it\\u2019s\", \"it\\u2019s\", \"i\\u2019m\", \"jab\", \"june\", \"june\", \"keeps\", \"kills\", \"know\", \"less\", \"lies\\u201d\", \"limit\", \"little\", \"many\", \"medical\", \"medical\", \"michael\", \"midst\", \"millions\", \"min\", \"moetitshidi\", \"money\", \"more\", \"more\", \"more\", \"most\", \"muchneeded\", \"myocarditis\", \"near\", \"need\", \"needs\", \"needs\", \"new\", \"new\", \"new\", \"night\", \"no\", \"now\", \"now\", \"now\", \"of\", \"of\", \"of\", \"of\", \"on\", \"on\", \"on\", \"one\", \"one\", \"ontario\", \"other\", \"out\", \"out\", \"out\", \"overwhelm\", \"oxygen\", \"parts\", \"past\", \"pay\", \"people\", \"people\", \"people\", \"pfizer\", \"pin\", \"pleased\", \"pmcg\", \"population\", \"professionals\", \"public\", \"puts\", \"question\", \"quickly\", \"rebound\", \"recorded\", \"remember\", \"retweet\", \"retweet\", \"rich\", \"rich\", \"risen\", \"risk\", \"rouse\", \"search\", \"seen\", \"should\", \"should\", \"so\", \"sobering\", \"south\", \"south\", \"speaking\", \"stand\", \"still\", \"support\", \"surges\", \"surging\", \"systems\", \"take\", \"technology\", \"that\", \"that\", \"that\", \"the\", \"the\", \"the\", \"the\", \"them\", \"there\", \"there\", \"these\", \"third\", \"this\", \"this\", \"this\", \"threat\", \"time\", \"time\", \"to\", \"to\", \"to\", \"to\", \"to\", \"total\", \"trajectory\", \"uk\", \"up\", \"urgent\", \"urgently\", \"vaccinated\", \"vaccinated\", \"vaccination\", \"vaccine\", \"vaccine\", \"vaccine\", \"vaccine\", \"vaccine\", \"vaccines\", \"vaccines\", \"vaccines\", \"vaccines\", \"variant\", \"vax\", \"via\", \"virologist\", \"viruses\", \"vp\", \"wave\", \"we\", \"we\", \"wecandothis\", \"week\", \"week\", \"we\\u2019ve\", \"where\", \"where\", \"who\", \"who\", \"who\", \"whoindia\", \"whoindia\", \"why\", \"why\", \"will\", \"will\", \"with\", \"with\", \"wolfofwallst\", \"world\", \"world\", \"yeadon\", \"you\", \"you\", \"you\", \"your\", \"your\", \"youre\", \"zip\", \"\\u201clist\", \"\\ud83d\\udd0d\", \"\\ud83d\\udd30\"]}, \"R\": 30, \"lambda.step\": 0.01, \"plot.opts\": {\"xlab\": \"PC1\", \"ylab\": \"PC2\"}, \"topic.order\": [5, 4, 3, 1, 2]};\n",
       "\n",
       "function LDAvis_load_lib(url, callback){\n",
       "  var s = document.createElement('script');\n",
       "  s.src = url;\n",
       "  s.async = true;\n",
       "  s.onreadystatechange = s.onload = callback;\n",
       "  s.onerror = function(){console.warn(\"failed to load library \" + url);};\n",
       "  document.getElementsByTagName(\"head\")[0].appendChild(s);\n",
       "}\n",
       "\n",
       "if(typeof(LDAvis) !== \"undefined\"){\n",
       "   // already loaded: just create the visualization\n",
       "   !function(LDAvis){\n",
       "       new LDAvis(\"#\" + \"ldavis_el1696828387401944644043785378\", ldavis_el1696828387401944644043785378_data);\n",
       "   }(LDAvis);\n",
       "}else if(typeof define === \"function\" && define.amd){\n",
       "   // require.js is available: use it to load d3/LDAvis\n",
       "   require.config({paths: {d3: \"https://d3js.org/d3.v5\"}});\n",
       "   require([\"d3\"], function(d3){\n",
       "      window.d3 = d3;\n",
       "      LDAvis_load_lib(\"https://cdn.jsdelivr.net/gh/bmabey/pyLDAvis@3.3.1/pyLDAvis/js/ldavis.v3.0.0.js\", function(){\n",
       "        new LDAvis(\"#\" + \"ldavis_el1696828387401944644043785378\", ldavis_el1696828387401944644043785378_data);\n",
       "      });\n",
       "    });\n",
       "}else{\n",
       "    // require.js not available: dynamically load d3 & LDAvis\n",
       "    LDAvis_load_lib(\"https://d3js.org/d3.v5.js\", function(){\n",
       "         LDAvis_load_lib(\"https://cdn.jsdelivr.net/gh/bmabey/pyLDAvis@3.3.1/pyLDAvis/js/ldavis.v3.0.0.js\", function(){\n",
       "                 new LDAvis(\"#\" + \"ldavis_el1696828387401944644043785378\", ldavis_el1696828387401944644043785378_data);\n",
       "            })\n",
       "         });\n",
       "}\n",
       "</script>"
      ],
      "text/plain": [
       "PreparedData(topic_coordinates=              x         y  topics  cluster       Freq\n",
       "topic                                                \n",
       "4     -0.123301  0.044257       1        1  33.155808\n",
       "3     -0.119695 -0.028544       2        1  25.560286\n",
       "2     -0.099969 -0.230786       3        1  15.128756\n",
       "0     -0.060398  0.232412       4        1  14.490312\n",
       "1      0.403363 -0.017339       5        1  11.664839, topic_info=         Term         Freq        Total Category  logprob  loglift\n",
       "291     india  1019.000000  1019.000000  Default  30.0000  30.0000\n",
       "34     africa  1541.000000  1541.000000  Default  29.0000  29.0000\n",
       "731       age   616.000000   616.000000  Default  28.0000  28.0000\n",
       "733  capacity   585.000000   585.000000  Default  27.0000  27.0000\n",
       "62   vaccines  3059.000000  3059.000000  Default  26.0000  26.0000\n",
       "..        ...          ...          ...      ...      ...      ...\n",
       "582      june   142.049334   166.589801   Topic5  -4.8475   1.9892\n",
       "62   vaccines   743.626871  3059.787008   Topic5  -3.1921   0.7340\n",
       "222       new   131.947879   271.232415   Topic5  -4.9212   1.4280\n",
       "10     deaths   102.061145   252.769966   Topic5  -5.1781   1.2417\n",
       "7       cases    93.230441   604.852346   Topic5  -5.2686   0.2787\n",
       "\n",
       "[293 rows x 6 columns], token_table=      Topic      Freq         Term\n",
       "term                              \n",
       "757       5  0.997555            0\n",
       "2668      5  0.984091          118\n",
       "749       3  0.108658           18\n",
       "749       5  0.889640           18\n",
       "154       4  0.988228  18002320233\n",
       "...     ...       ...          ...\n",
       "1352      4  0.992139        youre\n",
       "176       4  0.994834          zip\n",
       "121       1  0.996581        “list\n",
       "179       4  0.992766            🔍\n",
       "7133      2  0.995892            🔰\n",
       "\n",
       "[343 rows x 3 columns], R=30, lambda_step=0.01, plot_opts={'xlab': 'PC1', 'ylab': 'PC2'}, topic_order=[5, 4, 3, 1, 2])"
      ]
     },
     "execution_count": 38,
     "metadata": {},
     "output_type": "execute_result"
    }
   ],
   "source": [
    "import pyLDAvis.gensim_models as gensimvis\n",
    "import pickle \n",
    "import pyLDAvis\n",
    "# Visualize the topics\n",
    "pyLDAvis.enable_notebook()\n",
    "\n",
    "LDAvis_prepared = gensimvis.prepare(lda_model, corpus, id2word)\n",
    "LDAvis_prepared"
   ]
  },
  {
   "cell_type": "code",
   "execution_count": null,
   "metadata": {},
   "outputs": [],
   "source": []
  },
  {
   "cell_type": "code",
   "execution_count": null,
   "metadata": {},
   "outputs": [],
   "source": []
  }
 ],
 "metadata": {
  "colab": {
   "collapsed_sections": [],
   "name": "Modeling_Twitter.ipynb",
   "provenance": []
  },
  "kernelspec": {
   "display_name": "Python 3",
   "language": "python",
   "name": "python3"
  },
  "language_info": {
   "codemirror_mode": {
    "name": "ipython",
    "version": 3
   },
   "file_extension": ".py",
   "mimetype": "text/x-python",
   "name": "python",
   "nbconvert_exporter": "python",
   "pygments_lexer": "ipython3",
   "version": "3.8.5"
  }
 },
 "nbformat": 4,
 "nbformat_minor": 1
}
