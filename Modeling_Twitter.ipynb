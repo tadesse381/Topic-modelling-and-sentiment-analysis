{
 "cells": [
  {
   "cell_type": "markdown",
   "metadata": {
    "id": "XwFOba1pbdVc"
   },
   "source": [
    "## **Objective **\n",
    "### Social Media Tweet Analysis on Twitter Dataset\n",
    "*   Topic Modeling on Twitter Dataset\n",
    "\n",
    "\n",
    "*   Reference for [Topic modeling ](https://https://towardsdatascience.com/evaluate-topic-model-in-python-latent-dirichlet-allocation-lda-7d57484bb5d0)\n",
    "\n",
    "*   Sentiment analysis on Twitter Dataset\n",
    "\n"
   ]
  },
  {
   "cell_type": "markdown",
   "metadata": {
    "id": "SN9Lla4UO1SS"
   },
   "source": [
    "\n",
    "\n",
    "\n",
    "\n",
    "\n",
    "### **Business understanding**"
   ]
  },
  {
   "cell_type": "markdown",
   "metadata": {
    "id": "Dbu9rgu4iSTe"
   },
   "source": [
    "### **Topic modeling**\n",
    "Topic modeling is a type of statistical model for discovering the abstract \"topics\" that occur in a collection of texts.\n",
    " It is an unsupervised approach used for finding and observing the bunch of words (called “topics”) in large clusters of texts.\n",
    " **Topic models** are built around the idea that the semantics of our document are actually being governed by some hidden, or “latent,” variables that we are not observing.\n",
    "\n",
    "*   Our task here is to discover abstract topics from tweets.\n",
    "\n",
    "\n",
    "### **Sentiment analysis**\n",
    " It is used in social media monitoring, allowing businesses to gain insights about how customers feel about certain topics, and detect urgent issues in real time before they spiral out of control.\n",
    "\n",
    "\n",
    "*   Our task here is to classify a tweet as a positive or negative tweet sentiment wise.\n",
    "\n",
    "\n"
   ]
  },
  {
   "cell_type": "code",
   "execution_count": 7,
   "metadata": {
    "id": "Vsmv5wkz0VFu"
   },
   "outputs": [
    {
     "data": {
      "text/plain": [
       "0       0.166667\n",
       "1       0.133333\n",
       "2       0.316667\n",
       "3       0.086111\n",
       "4       0.280000\n",
       "          ...   \n",
       "6527    0.000000\n",
       "6528    0.086111\n",
       "6529    0.281250\n",
       "6530    0.125000\n",
       "6531    0.000000\n",
       "Name: polarity, Length: 6532, dtype: float64"
      ]
     },
     "execution_count": 7,
     "metadata": {},
     "output_type": "execute_result"
    }
   ],
   "source": [
    "import pandas as pd\n",
    "import matplotlib.pyplot as plt\n",
    "from sklearn.model_selection import train_test_split\n",
    "\n",
    "from sklearn.linear_model import SGDClassifier\n",
    "from sklearn.feature_extraction.text import CountVectorizer\n",
    "from sklearn.metrics import accuracy_score\n",
    "from sklearn. metrics import classification_report\n",
    "from sklearn.metrics import confusion_matrix\n",
    "from sklearn.pipeline import Pipeline\n",
    "from sklearn.feature_extraction.text import TfidfTransformer\n",
    "\n",
    "def text_catagory(p):\n",
    "    if p > 0:\n",
    "        return 'positive'\n",
    "    elif p < 0:\n",
    "        return 'negative'\n",
    "    else:\n",
    "        return 'neutral'\n",
    "    \n",
    "file_name = 'cleaned_fintech_data.csv'\n",
    "df = pd.read_csv(file_name)\n",
    "\n",
    "# see polarity\n",
    "df['polarity']"
   ]
  },
  {
   "cell_type": "code",
   "execution_count": 8,
   "metadata": {},
   "outputs": [
    {
     "data": {
      "text/html": [
       "<div>\n",
       "<style scoped>\n",
       "    .dataframe tbody tr th:only-of-type {\n",
       "        vertical-align: middle;\n",
       "    }\n",
       "\n",
       "    .dataframe tbody tr th {\n",
       "        vertical-align: top;\n",
       "    }\n",
       "\n",
       "    .dataframe thead th {\n",
       "        text-align: right;\n",
       "    }\n",
       "</style>\n",
       "<table border=\"1\" class=\"dataframe\">\n",
       "  <thead>\n",
       "    <tr style=\"text-align: right;\">\n",
       "      <th></th>\n",
       "      <th>clean_text</th>\n",
       "      <th>polarity</th>\n",
       "    </tr>\n",
       "  </thead>\n",
       "  <tbody>\n",
       "    <tr>\n",
       "      <th>0</th>\n",
       "      <td>🚨Africa is \"in the midst of a full-blown third...</td>\n",
       "      <td>0.166667</td>\n",
       "    </tr>\n",
       "    <tr>\n",
       "      <th>1</th>\n",
       "      <td>Dr Moeti is head of WHO in Africa, and one of ...</td>\n",
       "      <td>0.133333</td>\n",
       "    </tr>\n",
       "    <tr>\n",
       "      <th>2</th>\n",
       "      <td>Thank you @research2note for creating this ama...</td>\n",
       "      <td>0.316667</td>\n",
       "    </tr>\n",
       "    <tr>\n",
       "      <th>3</th>\n",
       "      <td>Former Pfizer VP and Virologist, Dr. Michael Y...</td>\n",
       "      <td>0.086111</td>\n",
       "    </tr>\n",
       "    <tr>\n",
       "      <th>4</th>\n",
       "      <td>I think it’s important that we don’t sell COVA...</td>\n",
       "      <td>0.280000</td>\n",
       "    </tr>\n",
       "  </tbody>\n",
       "</table>\n",
       "</div>"
      ],
      "text/plain": [
       "                                          clean_text  polarity\n",
       "0  🚨Africa is \"in the midst of a full-blown third...  0.166667\n",
       "1  Dr Moeti is head of WHO in Africa, and one of ...  0.133333\n",
       "2  Thank you @research2note for creating this ama...  0.316667\n",
       "3  Former Pfizer VP and Virologist, Dr. Michael Y...  0.086111\n",
       "4  I think it’s important that we don’t sell COVA...  0.280000"
      ]
     },
     "execution_count": 8,
     "metadata": {},
     "output_type": "execute_result"
    }
   ],
   "source": [
    "cleanTweet = df[['original_text', 'polarity']].rename({'original_text': 'clean_text'}, axis=1)\n",
    "cleanTweet.head()"
   ]
  },
  {
   "cell_type": "code",
   "execution_count": 9,
   "metadata": {},
   "outputs": [],
   "source": [
    "# Apply text_category on the  𝐩𝐨𝐥𝐚𝐫𝐢𝐭𝐲  column of cleanTweet, form a new column called  𝐬𝐜𝐨𝐫𝐞\n",
    "cleanTweet['score'] = cleanTweet[\"polarity\"].map(text_catagory)"
   ]
  },
  {
   "cell_type": "code",
   "execution_count": 10,
   "metadata": {},
   "outputs": [
    {
     "data": {
      "text/html": [
       "<div>\n",
       "<style scoped>\n",
       "    .dataframe tbody tr th:only-of-type {\n",
       "        vertical-align: middle;\n",
       "    }\n",
       "\n",
       "    .dataframe tbody tr th {\n",
       "        vertical-align: top;\n",
       "    }\n",
       "\n",
       "    .dataframe thead th {\n",
       "        text-align: right;\n",
       "    }\n",
       "</style>\n",
       "<table border=\"1\" class=\"dataframe\">\n",
       "  <thead>\n",
       "    <tr style=\"text-align: right;\">\n",
       "      <th></th>\n",
       "      <th>clean_text</th>\n",
       "      <th>polarity</th>\n",
       "      <th>score</th>\n",
       "    </tr>\n",
       "  </thead>\n",
       "  <tbody>\n",
       "    <tr>\n",
       "      <th>0</th>\n",
       "      <td>🚨Africa is \"in the midst of a full-blown third...</td>\n",
       "      <td>0.166667</td>\n",
       "      <td>positive</td>\n",
       "    </tr>\n",
       "    <tr>\n",
       "      <th>1</th>\n",
       "      <td>Dr Moeti is head of WHO in Africa, and one of ...</td>\n",
       "      <td>0.133333</td>\n",
       "      <td>positive</td>\n",
       "    </tr>\n",
       "    <tr>\n",
       "      <th>2</th>\n",
       "      <td>Thank you @research2note for creating this ama...</td>\n",
       "      <td>0.316667</td>\n",
       "      <td>positive</td>\n",
       "    </tr>\n",
       "    <tr>\n",
       "      <th>3</th>\n",
       "      <td>Former Pfizer VP and Virologist, Dr. Michael Y...</td>\n",
       "      <td>0.086111</td>\n",
       "      <td>positive</td>\n",
       "    </tr>\n",
       "    <tr>\n",
       "      <th>4</th>\n",
       "      <td>I think it’s important that we don’t sell COVA...</td>\n",
       "      <td>0.280000</td>\n",
       "      <td>positive</td>\n",
       "    </tr>\n",
       "  </tbody>\n",
       "</table>\n",
       "</div>"
      ],
      "text/plain": [
       "                                          clean_text  polarity     score\n",
       "0  🚨Africa is \"in the midst of a full-blown third...  0.166667  positive\n",
       "1  Dr Moeti is head of WHO in Africa, and one of ...  0.133333  positive\n",
       "2  Thank you @research2note for creating this ama...  0.316667  positive\n",
       "3  Former Pfizer VP and Virologist, Dr. Michael Y...  0.086111  positive\n",
       "4  I think it’s important that we don’t sell COVA...  0.280000  positive"
      ]
     },
     "execution_count": 10,
     "metadata": {},
     "output_type": "execute_result"
    }
   ],
   "source": [
    "cleanTweet.head()"
   ]
  },
  {
   "cell_type": "code",
   "execution_count": 11,
   "metadata": {},
   "outputs": [
    {
     "data": {
      "text/plain": [
       "<AxesSubplot:xlabel='score'>"
      ]
     },
     "execution_count": 11,
     "metadata": {},
     "output_type": "execute_result"
    },
    {
     "data": {
      "image/png": "[encoded data removed]",
      "text/plain": [
       "<Figure size 576x432 with 1 Axes>"
      ]
     },
     "metadata": {
      "needs_background": "light"
     },
     "output_type": "display_data"
    }
   ],
   "source": [
    "# visualize using BarChart\n",
    "fig,axis=plt.subplots(figsize=(8,6))\n",
    "cleanTweet.groupby('score')['clean_text'].count().plot.bar(ax=axis)"
   ]
  },
  {
   "cell_type": "code",
   "execution_count": 12,
   "metadata": {},
   "outputs": [
    {
     "data": {
      "text/plain": [
       "<AxesSubplot:ylabel='clean_text'>"
      ]
     },
     "execution_count": 12,
     "metadata": {},
     "output_type": "execute_result"
    },
    {
     "data": {
      "image/png": "[encoded data removed]",
      "text/plain": [
       "<Figure size 576x432 with 1 Axes>"
      ]
     },
     "metadata": {},
     "output_type": "display_data"
    }
   ],
   "source": [
    "# visualize using PieChart\n",
    "fig,axis=plt.subplots(figsize=(8,6))\n",
    "cleanTweet.groupby('score')['clean_text'].count().plot.pie(ax=axis)"
   ]
  },
  {
   "cell_type": "code",
   "execution_count": 13,
   "metadata": {},
   "outputs": [
    {
     "data": {
      "text/html": [
       "<div>\n",
       "<style scoped>\n",
       "    .dataframe tbody tr th:only-of-type {\n",
       "        vertical-align: middle;\n",
       "    }\n",
       "\n",
       "    .dataframe tbody tr th {\n",
       "        vertical-align: top;\n",
       "    }\n",
       "\n",
       "    .dataframe thead th {\n",
       "        text-align: right;\n",
       "    }\n",
       "</style>\n",
       "<table border=\"1\" class=\"dataframe\">\n",
       "  <thead>\n",
       "    <tr style=\"text-align: right;\">\n",
       "      <th></th>\n",
       "      <th>clean_text</th>\n",
       "      <th>polarity</th>\n",
       "      <th>score</th>\n",
       "    </tr>\n",
       "  </thead>\n",
       "  <tbody>\n",
       "    <tr>\n",
       "      <th>0</th>\n",
       "      <td>🚨Africa is \"in the midst of a full-blown third...</td>\n",
       "      <td>0.166667</td>\n",
       "      <td>positive</td>\n",
       "    </tr>\n",
       "    <tr>\n",
       "      <th>1</th>\n",
       "      <td>Dr Moeti is head of WHO in Africa, and one of ...</td>\n",
       "      <td>0.133333</td>\n",
       "      <td>positive</td>\n",
       "    </tr>\n",
       "    <tr>\n",
       "      <th>2</th>\n",
       "      <td>Thank you @research2note for creating this ama...</td>\n",
       "      <td>0.316667</td>\n",
       "      <td>positive</td>\n",
       "    </tr>\n",
       "    <tr>\n",
       "      <th>3</th>\n",
       "      <td>Former Pfizer VP and Virologist, Dr. Michael Y...</td>\n",
       "      <td>0.086111</td>\n",
       "      <td>positive</td>\n",
       "    </tr>\n",
       "    <tr>\n",
       "      <th>4</th>\n",
       "      <td>I think it’s important that we don’t sell COVA...</td>\n",
       "      <td>0.280000</td>\n",
       "      <td>positive</td>\n",
       "    </tr>\n",
       "  </tbody>\n",
       "</table>\n",
       "</div>"
      ],
      "text/plain": [
       "                                          clean_text  polarity     score\n",
       "0  🚨Africa is \"in the midst of a full-blown third...  0.166667  positive\n",
       "1  Dr Moeti is head of WHO in Africa, and one of ...  0.133333  positive\n",
       "2  Thank you @research2note for creating this ama...  0.316667  positive\n",
       "3  Former Pfizer VP and Virologist, Dr. Michael Y...  0.086111  positive\n",
       "4  I think it’s important that we don’t sell COVA...  0.280000  positive"
      ]
     },
     "execution_count": 13,
     "metadata": {},
     "output_type": "execute_result"
    }
   ],
   "source": [
    "# Remove rows from cleanTweet where  𝐩𝐨𝐥𝐚𝐫𝐢𝐭𝐲   =0  (i.e where  𝐬𝐜𝐨𝐫𝐞  = Neutral)\n",
    "cleanTweet = cleanTweet[cleanTweet['polarity'] != 0]\n",
    "\n",
    "# reset the frame index.\n",
    "cleanTweet.reset_index(drop=True, inplace=True)\n",
    "cleanTweet.head()"
   ]
  },
  {
   "cell_type": "code",
   "execution_count": 14,
   "metadata": {},
   "outputs": [
    {
     "data": {
      "text/html": [
       "<div>\n",
       "<style scoped>\n",
       "    .dataframe tbody tr th:only-of-type {\n",
       "        vertical-align: middle;\n",
       "    }\n",
       "\n",
       "    .dataframe tbody tr th {\n",
       "        vertical-align: top;\n",
       "    }\n",
       "\n",
       "    .dataframe thead th {\n",
       "        text-align: right;\n",
       "    }\n",
       "</style>\n",
       "<table border=\"1\" class=\"dataframe\">\n",
       "  <thead>\n",
       "    <tr style=\"text-align: right;\">\n",
       "      <th></th>\n",
       "      <th>clean_text</th>\n",
       "      <th>polarity</th>\n",
       "      <th>score</th>\n",
       "      <th>scoremap</th>\n",
       "    </tr>\n",
       "  </thead>\n",
       "  <tbody>\n",
       "    <tr>\n",
       "      <th>0</th>\n",
       "      <td>🚨Africa is \"in the midst of a full-blown third...</td>\n",
       "      <td>0.166667</td>\n",
       "      <td>positive</td>\n",
       "      <td>1</td>\n",
       "    </tr>\n",
       "    <tr>\n",
       "      <th>1</th>\n",
       "      <td>Dr Moeti is head of WHO in Africa, and one of ...</td>\n",
       "      <td>0.133333</td>\n",
       "      <td>positive</td>\n",
       "      <td>1</td>\n",
       "    </tr>\n",
       "    <tr>\n",
       "      <th>2</th>\n",
       "      <td>Thank you @research2note for creating this ama...</td>\n",
       "      <td>0.316667</td>\n",
       "      <td>positive</td>\n",
       "      <td>1</td>\n",
       "    </tr>\n",
       "    <tr>\n",
       "      <th>3</th>\n",
       "      <td>Former Pfizer VP and Virologist, Dr. Michael Y...</td>\n",
       "      <td>0.086111</td>\n",
       "      <td>positive</td>\n",
       "      <td>1</td>\n",
       "    </tr>\n",
       "    <tr>\n",
       "      <th>4</th>\n",
       "      <td>I think it’s important that we don’t sell COVA...</td>\n",
       "      <td>0.280000</td>\n",
       "      <td>positive</td>\n",
       "      <td>1</td>\n",
       "    </tr>\n",
       "  </tbody>\n",
       "</table>\n",
       "</div>"
      ],
      "text/plain": [
       "                                          clean_text  polarity     score  \\\n",
       "0  🚨Africa is \"in the midst of a full-blown third...  0.166667  positive   \n",
       "1  Dr Moeti is head of WHO in Africa, and one of ...  0.133333  positive   \n",
       "2  Thank you @research2note for creating this ama...  0.316667  positive   \n",
       "3  Former Pfizer VP and Virologist, Dr. Michael Y...  0.086111  positive   \n",
       "4  I think it’s important that we don’t sell COVA...  0.280000  positive   \n",
       "\n",
       "   scoremap  \n",
       "0         1  \n",
       "1         1  \n",
       "2         1  \n",
       "3         1  \n",
       "4         1  "
      ]
     },
     "execution_count": 14,
     "metadata": {},
     "output_type": "execute_result"
    }
   ],
   "source": [
    "# Construct a column  𝐬𝐜𝐨𝐫𝐞𝐦𝐚𝐩  Use the mapping {'positive':1, 'negative':0} on the  𝐬𝐜𝐨𝐫𝐞  column\n",
    "def get_score(value):\n",
    "    return 1 if (value == 'positive') else 0\n",
    "\n",
    "cleanTweet['scoremap'] = cleanTweet['score'].map(get_score)\n",
    "cleanTweet.head()"
   ]
  },
  {
   "cell_type": "code",
   "execution_count": 15,
   "metadata": {},
   "outputs": [],
   "source": [
    "# Create feature and target variables (X,y) from  𝐜𝐥𝐞𝐚𝐧-𝐭𝐞𝐱𝐭  and  𝐬𝐜𝐨𝐫𝐞𝐦𝐚𝐩  columns respectively.\n",
    "X = cleanTweet['clean_text']\n",
    "y = cleanTweet['scoremap']"
   ]
  },
  {
   "cell_type": "code",
   "execution_count": 16,
   "metadata": {},
   "outputs": [],
   "source": [
    "# Use train_test_split function to construct (X_train, y_train) and (X_test, y_test) from (X,y)\n",
    "# i dont' know what it is actually doing\n",
    "x_train, x_test, y_train, y_test = train_test_split(X, y)"
   ]
  },
  {
   "cell_type": "code",
   "execution_count": 17,
   "metadata": {},
   "outputs": [
    {
     "data": {
      "text/plain": [
       "<3527x22684 sparse matrix of type '<class 'numpy.int64'>'\n",
       "\twith 114816 stored elements in Compressed Sparse Row format>"
      ]
     },
     "execution_count": 17,
     "metadata": {},
     "output_type": "execute_result"
    }
   ],
   "source": [
    "# Build an SGDClassifier model from the vectorize train text data. Use CountVectorizer() with a  trigram  parameter.\n",
    "# pipeline = Pipeline([\n",
    "#     ('vector',  CountVectorizer(analyzer='word', ngram_range=(3,3))),\n",
    "#     ('tfitf', TfidfTransformer()),\n",
    "#     ('clf', SGDClassifier(max_iter=1000))\n",
    "# ])\n",
    "# X_train_count = pipeline.fit(x_train, y_train)\n",
    "# can't run this for y_train\n",
    "# y_predection = X_train_count.predict(x_test)\n",
    "cv = CountVectorizer(ngram_range=(3, 3))\n",
    "X_train_cv = cv.fit_transform(x_train)\n",
    "X_test_cv = cv.transform(x_test)\n",
    "X_train_cv"
   ]
  },
  {
   "cell_type": "code",
   "execution_count": 18,
   "metadata": {},
   "outputs": [],
   "source": [
    "# Evaluate your model on the test data.\n",
    "clf = SGDClassifier()\n",
    "clf.fit(X_train_cv, y_train)\n",
    "predictions = clf.predict(X_test_cv)"
   ]
  },
  {
   "cell_type": "code",
   "execution_count": 19,
   "metadata": {},
   "outputs": [
    {
     "data": {
      "text/plain": [
       "array([[292,  39],\n",
       "       [  2, 843]], dtype=int64)"
      ]
     },
     "execution_count": 19,
     "metadata": {},
     "output_type": "execute_result"
    }
   ],
   "source": [
    "results = confusion_matrix(y_test, predictions) \n",
    "results"
   ]
  },
  {
   "cell_type": "code",
   "execution_count": 20,
   "metadata": {},
   "outputs": [
    {
     "data": {
      "text/plain": [
       "0.9651360544217688"
      ]
     },
     "execution_count": 20,
     "metadata": {},
     "output_type": "execute_result"
    }
   ],
   "source": [
    "# accuracy\n",
    "accuracy_score(y_test, predictions)"
   ]
  },
  {
   "cell_type": "code",
   "execution_count": 21,
   "metadata": {},
   "outputs": [
    {
     "name": "stdout",
     "output_type": "stream",
     "text": [
      "              precision    recall  f1-score   support\n",
      "\n",
      "           0       0.99      0.88      0.93       331\n",
      "           1       0.96      1.00      0.98       845\n",
      "\n",
      "    accuracy                           0.97      1176\n",
      "   macro avg       0.97      0.94      0.96      1176\n",
      "weighted avg       0.97      0.97      0.96      1176\n",
      "\n"
     ]
    }
   ],
   "source": [
    "# Classification report\n",
    "print(classification_report(y_test, predictions))"
   ]
  },
  {
   "cell_type": "markdown",
   "metadata": {
    "id": "REuN7elQ0Vvr"
   },
   "source": [
    "**Topic modeling **is a machine learning technique that automatically analyzes text data to determine cluster words for a set of documents. \n",
    "\n",
    "\n",
    "*   unsupervised machine learning because it doesn’t require a predefined list of tags or training data that’s been previously classified by humans.\n",
    "*   doesn’t require training, it’s a quick and easy way to start analyzing your data."
   ]
  },
  {
   "cell_type": "markdown",
   "metadata": {
    "id": "hQuEQFUIy2_3"
   },
   "source": [
    "## Data Understanding\n",
    "### Loading necessary packages"
   ]
  },
  {
   "cell_type": "code",
   "execution_count": 1,
   "metadata": {
    "id": "CTUmMBAOyt-g"
   },
   "outputs": [],
   "source": [
    "import warnings\n",
    "warnings.filterwarnings('ignore')\n",
    "import matplotlib.pyplot as plt\n",
    "import seaborn as sns\n",
    "from wordcloud import STOPWORDS,WordCloud\n",
    "import gensim\n",
    "from gensim.models import CoherenceModel\n",
    "from gensim import corpora\n",
    "import pandas as pd\n",
    "from pprint import pprint\n",
    "import string\n",
    "import os\n",
    "import re"
   ]
  },
  {
   "cell_type": "code",
   "execution_count": null,
   "metadata": {},
   "outputs": [],
   "source": []
  },
  {
   "cell_type": "markdown",
   "metadata": {
    "id": "J4_9Y5q6zOK-"
   },
   "source": [
    "Data acquisition\n",
    "\n",
    "For this example we have two option for data acquisition:\n",
    "\n",
    "*   You can download Twitter dataset directly from Twitter\n",
    "*   By registering as a developer using this link [Here](https://developer.twitter.com/en) \n",
    "\n",
    "*   Or you can use downloaded data found at Week0/data/cleaned_fintech_data.csv \n",
    "\n"
   ]
  },
  {
   "cell_type": "code",
   "execution_count": 3,
   "metadata": {
    "colab": {
     "base_uri": "https://localhost:8080/",
     "height": 86
    },
    "id": "aE9Bs0UxrG5z",
    "outputId": "c0e72b04-e4c7-4123-8a3a-dd40aee64f89"
   },
   "outputs": [
    {
     "data": {
      "text/html": [
       "<div>\n",
       "<style scoped>\n",
       "    .dataframe tbody tr th:only-of-type {\n",
       "        vertical-align: middle;\n",
       "    }\n",
       "\n",
       "    .dataframe tbody tr th {\n",
       "        vertical-align: top;\n",
       "    }\n",
       "\n",
       "    .dataframe thead th {\n",
       "        text-align: right;\n",
       "    }\n",
       "</style>\n",
       "<table border=\"1\" class=\"dataframe\">\n",
       "  <thead>\n",
       "    <tr style=\"text-align: right;\">\n",
       "      <th></th>\n",
       "      <th>Unnamed: 0</th>\n",
       "      <th>created_at</th>\n",
       "      <th>source</th>\n",
       "      <th>original_text</th>\n",
       "      <th>polarity</th>\n",
       "      <th>subjectivity</th>\n",
       "      <th>lang</th>\n",
       "      <th>favorite_count</th>\n",
       "      <th>retweet_count</th>\n",
       "      <th>original_author</th>\n",
       "      <th>followers_count</th>\n",
       "      <th>friends_count</th>\n",
       "      <th>possibly_sensitive</th>\n",
       "      <th>hashtags</th>\n",
       "      <th>user_mentions</th>\n",
       "      <th>place</th>\n",
       "    </tr>\n",
       "  </thead>\n",
       "  <tbody>\n",
       "    <tr>\n",
       "      <th>5</th>\n",
       "      <td>5</td>\n",
       "      <td>Fri Jun 18 17:56:25 +0000 2021</td>\n",
       "      <td>&lt;a href=\"http://twitter.com/download/android\" ...</td>\n",
       "      <td>I’m pleased to welcome the #WeCanDoThis bus to...</td>\n",
       "      <td>0.508333</td>\n",
       "      <td>0.783333</td>\n",
       "      <td>en</td>\n",
       "      <td>683</td>\n",
       "      <td>220</td>\n",
       "      <td>SandhraLee</td>\n",
       "      <td>759</td>\n",
       "      <td>4163</td>\n",
       "      <td>None</td>\n",
       "      <td>WeCanDoThis\\nCOVID19</td>\n",
       "      <td>CDCDirector</td>\n",
       "      <td>USA</td>\n",
       "    </tr>\n",
       "    <tr>\n",
       "      <th>9</th>\n",
       "      <td>9</td>\n",
       "      <td>Fri Jun 18 17:56:47 +0000 2021</td>\n",
       "      <td>&lt;a href=\"https://mobile.twitter.com\" rel=\"nofo...</td>\n",
       "      <td>It is really something to see new research com...</td>\n",
       "      <td>0.372727</td>\n",
       "      <td>0.467424</td>\n",
       "      <td>en</td>\n",
       "      <td>3</td>\n",
       "      <td>1</td>\n",
       "      <td>DarkaDuna2014</td>\n",
       "      <td>94</td>\n",
       "      <td>144</td>\n",
       "      <td>None</td>\n",
       "      <td>Covid19</td>\n",
       "      <td>LongCovidNYC</td>\n",
       "      <td>Bilbao, País Vasco</td>\n",
       "    </tr>\n",
       "    <tr>\n",
       "      <th>16</th>\n",
       "      <td>16</td>\n",
       "      <td>Fri Jun 18 17:57:18 +0000 2021</td>\n",
       "      <td>&lt;a href=\"https://mobile.twitter.com\" rel=\"nofo...</td>\n",
       "      <td>It is really something to see new research com...</td>\n",
       "      <td>0.372727</td>\n",
       "      <td>0.467424</td>\n",
       "      <td>en</td>\n",
       "      <td>5</td>\n",
       "      <td>3</td>\n",
       "      <td>SheriD17536431</td>\n",
       "      <td>470</td>\n",
       "      <td>1240</td>\n",
       "      <td>None</td>\n",
       "      <td>Covid19</td>\n",
       "      <td>LongCovidNYC</td>\n",
       "      <td>Nashville</td>\n",
       "    </tr>\n",
       "    <tr>\n",
       "      <th>19</th>\n",
       "      <td>19</td>\n",
       "      <td>Fri Jun 18 17:57:22 +0000 2021</td>\n",
       "      <td>&lt;a href=\"http://twitter.com/download/iphone\" r...</td>\n",
       "      <td>So glad to join training day for the DC #COVID...</td>\n",
       "      <td>0.625000</td>\n",
       "      <td>1.000000</td>\n",
       "      <td>en</td>\n",
       "      <td>6</td>\n",
       "      <td>3</td>\n",
       "      <td>stevenlwalker</td>\n",
       "      <td>5769</td>\n",
       "      <td>1848</td>\n",
       "      <td>None</td>\n",
       "      <td>COVID19</td>\n",
       "      <td>falcicchio</td>\n",
       "      <td>Bending stuff towards justice</td>\n",
       "    </tr>\n",
       "    <tr>\n",
       "      <th>29</th>\n",
       "      <td>29</td>\n",
       "      <td>Fri Jun 18 17:57:48 +0000 2021</td>\n",
       "      <td>&lt;a href=\"https://about.twitter.com/products/tw...</td>\n",
       "      <td>It is really something to see new research com...</td>\n",
       "      <td>0.372727</td>\n",
       "      <td>0.467424</td>\n",
       "      <td>en</td>\n",
       "      <td>6</td>\n",
       "      <td>4</td>\n",
       "      <td>RGC_BPPA</td>\n",
       "      <td>2689</td>\n",
       "      <td>5003</td>\n",
       "      <td>None</td>\n",
       "      <td>Covid19</td>\n",
       "      <td>LongCovidNYC</td>\n",
       "      <td>Lafayette, Louisiana</td>\n",
       "    </tr>\n",
       "    <tr>\n",
       "      <th>...</th>\n",
       "      <td>...</td>\n",
       "      <td>...</td>\n",
       "      <td>...</td>\n",
       "      <td>...</td>\n",
       "      <td>...</td>\n",
       "      <td>...</td>\n",
       "      <td>...</td>\n",
       "      <td>...</td>\n",
       "      <td>...</td>\n",
       "      <td>...</td>\n",
       "      <td>...</td>\n",
       "      <td>...</td>\n",
       "      <td>...</td>\n",
       "      <td>...</td>\n",
       "      <td>...</td>\n",
       "      <td>...</td>\n",
       "    </tr>\n",
       "    <tr>\n",
       "      <th>6510</th>\n",
       "      <td>6510</td>\n",
       "      <td>Sat Jun 19 07:38:44 +0000 2021</td>\n",
       "      <td>&lt;a href=\"http://twitter.com/download/android\" ...</td>\n",
       "      <td>With vaccination coverage being expanded from ...</td>\n",
       "      <td>0.200000</td>\n",
       "      <td>0.400000</td>\n",
       "      <td>en</td>\n",
       "      <td>98</td>\n",
       "      <td>32</td>\n",
       "      <td>DPD_India</td>\n",
       "      <td>9757</td>\n",
       "      <td>94</td>\n",
       "      <td>None</td>\n",
       "      <td>COVID19</td>\n",
       "      <td>mygovindia</td>\n",
       "      <td>India</td>\n",
       "    </tr>\n",
       "    <tr>\n",
       "      <th>6511</th>\n",
       "      <td>6511</td>\n",
       "      <td>Sat Jun 19 07:38:47 +0000 2021</td>\n",
       "      <td>&lt;a href=\"https://mobile.twitter.com\" rel=\"nofo...</td>\n",
       "      <td>Over 990.25 million doses of #COVID19 #vaccine...</td>\n",
       "      <td>0.000000</td>\n",
       "      <td>0.000000</td>\n",
       "      <td>en</td>\n",
       "      <td>9</td>\n",
       "      <td>4</td>\n",
       "      <td>irfanakram</td>\n",
       "      <td>76</td>\n",
       "      <td>341</td>\n",
       "      <td>None</td>\n",
       "      <td>COVID19\\nvaccines</td>\n",
       "      <td>PDChina</td>\n",
       "      <td>Wazirabad,Pakistan</td>\n",
       "    </tr>\n",
       "    <tr>\n",
       "      <th>6515</th>\n",
       "      <td>6515</td>\n",
       "      <td>Sat Jun 19 07:39:14 +0000 2021</td>\n",
       "      <td>&lt;a href=\"http://twitter.com/download/android\" ...</td>\n",
       "      <td>Third wave of #coronavirus has hit Africa in a...</td>\n",
       "      <td>-0.116667</td>\n",
       "      <td>0.450000</td>\n",
       "      <td>en</td>\n",
       "      <td>309</td>\n",
       "      <td>43</td>\n",
       "      <td>khaleelwarsi</td>\n",
       "      <td>2923</td>\n",
       "      <td>2241</td>\n",
       "      <td>None</td>\n",
       "      <td>coronavirus</td>\n",
       "      <td>DrAMSinghvi</td>\n",
       "      <td>India</td>\n",
       "    </tr>\n",
       "    <tr>\n",
       "      <th>6522</th>\n",
       "      <td>6522</td>\n",
       "      <td>Sat Jun 19 07:40:29 +0000 2021</td>\n",
       "      <td>&lt;a href=\"https://mobile.twitter.com\" rel=\"nofo...</td>\n",
       "      <td>The Truth Behind COVID-19 Vaccines (6) —— Bell...</td>\n",
       "      <td>-0.386111</td>\n",
       "      <td>0.622222</td>\n",
       "      <td>en</td>\n",
       "      <td>2</td>\n",
       "      <td>2</td>\n",
       "      <td>Hhuatakedownccp</td>\n",
       "      <td>697</td>\n",
       "      <td>303</td>\n",
       "      <td>None</td>\n",
       "      <td>DrLiMengYan\\nCCPVirus</td>\n",
       "      <td>edendomain</td>\n",
       "      <td>Osaka-shi Chuo, Osaka</td>\n",
       "    </tr>\n",
       "    <tr>\n",
       "      <th>6530</th>\n",
       "      <td>6530</td>\n",
       "      <td>Sat Jun 19 07:41:45 +0000 2021</td>\n",
       "      <td>&lt;a href=\"http://twitter.com/download/iphone\" r...</td>\n",
       "      <td>\"Africa needs millions more doses here &amp;amp; n...</td>\n",
       "      <td>0.125000</td>\n",
       "      <td>0.325000</td>\n",
       "      <td>en</td>\n",
       "      <td>143</td>\n",
       "      <td>122</td>\n",
       "      <td>DrAmirKhanGP</td>\n",
       "      <td>135163</td>\n",
       "      <td>1284</td>\n",
       "      <td>None</td>\n",
       "      <td>COVID19</td>\n",
       "      <td>WHOAFRO</td>\n",
       "      <td>Yorkshire and The Humber</td>\n",
       "    </tr>\n",
       "  </tbody>\n",
       "</table>\n",
       "<p>1556 rows × 16 columns</p>\n",
       "</div>"
      ],
      "text/plain": [
       "      Unnamed: 0                      created_at  \\\n",
       "5              5  Fri Jun 18 17:56:25 +0000 2021   \n",
       "9              9  Fri Jun 18 17:56:47 +0000 2021   \n",
       "16            16  Fri Jun 18 17:57:18 +0000 2021   \n",
       "19            19  Fri Jun 18 17:57:22 +0000 2021   \n",
       "29            29  Fri Jun 18 17:57:48 +0000 2021   \n",
       "...          ...                             ...   \n",
       "6510        6510  Sat Jun 19 07:38:44 +0000 2021   \n",
       "6511        6511  Sat Jun 19 07:38:47 +0000 2021   \n",
       "6515        6515  Sat Jun 19 07:39:14 +0000 2021   \n",
       "6522        6522  Sat Jun 19 07:40:29 +0000 2021   \n",
       "6530        6530  Sat Jun 19 07:41:45 +0000 2021   \n",
       "\n",
       "                                                 source  \\\n",
       "5     <a href=\"http://twitter.com/download/android\" ...   \n",
       "9     <a href=\"https://mobile.twitter.com\" rel=\"nofo...   \n",
       "16    <a href=\"https://mobile.twitter.com\" rel=\"nofo...   \n",
       "19    <a href=\"http://twitter.com/download/iphone\" r...   \n",
       "29    <a href=\"https://about.twitter.com/products/tw...   \n",
       "...                                                 ...   \n",
       "6510  <a href=\"http://twitter.com/download/android\" ...   \n",
       "6511  <a href=\"https://mobile.twitter.com\" rel=\"nofo...   \n",
       "6515  <a href=\"http://twitter.com/download/android\" ...   \n",
       "6522  <a href=\"https://mobile.twitter.com\" rel=\"nofo...   \n",
       "6530  <a href=\"http://twitter.com/download/iphone\" r...   \n",
       "\n",
       "                                          original_text  polarity  \\\n",
       "5     I’m pleased to welcome the #WeCanDoThis bus to...  0.508333   \n",
       "9     It is really something to see new research com...  0.372727   \n",
       "16    It is really something to see new research com...  0.372727   \n",
       "19    So glad to join training day for the DC #COVID...  0.625000   \n",
       "29    It is really something to see new research com...  0.372727   \n",
       "...                                                 ...       ...   \n",
       "6510  With vaccination coverage being expanded from ...  0.200000   \n",
       "6511  Over 990.25 million doses of #COVID19 #vaccine...  0.000000   \n",
       "6515  Third wave of #coronavirus has hit Africa in a... -0.116667   \n",
       "6522  The Truth Behind COVID-19 Vaccines (6) —— Bell... -0.386111   \n",
       "6530  \"Africa needs millions more doses here &amp; n...  0.125000   \n",
       "\n",
       "      subjectivity lang  favorite_count  retweet_count  original_author  \\\n",
       "5         0.783333   en             683            220       SandhraLee   \n",
       "9         0.467424   en               3              1    DarkaDuna2014   \n",
       "16        0.467424   en               5              3   SheriD17536431   \n",
       "19        1.000000   en               6              3    stevenlwalker   \n",
       "29        0.467424   en               6              4         RGC_BPPA   \n",
       "...            ...  ...             ...            ...              ...   \n",
       "6510      0.400000   en              98             32        DPD_India   \n",
       "6511      0.000000   en               9              4       irfanakram   \n",
       "6515      0.450000   en             309             43     khaleelwarsi   \n",
       "6522      0.622222   en               2              2  Hhuatakedownccp   \n",
       "6530      0.325000   en             143            122     DrAmirKhanGP   \n",
       "\n",
       "      followers_count  friends_count possibly_sensitive  \\\n",
       "5                 759           4163               None   \n",
       "9                  94            144               None   \n",
       "16                470           1240               None   \n",
       "19               5769           1848               None   \n",
       "29               2689           5003               None   \n",
       "...               ...            ...                ...   \n",
       "6510             9757             94               None   \n",
       "6511               76            341               None   \n",
       "6515             2923           2241               None   \n",
       "6522              697            303               None   \n",
       "6530           135163           1284               None   \n",
       "\n",
       "                   hashtags user_mentions                          place  \n",
       "5      WeCanDoThis\\nCOVID19   CDCDirector                            USA  \n",
       "9                   Covid19  LongCovidNYC             Bilbao, País Vasco  \n",
       "16                  Covid19  LongCovidNYC                      Nashville  \n",
       "19                  COVID19    falcicchio  Bending stuff towards justice  \n",
       "29                  Covid19  LongCovidNYC           Lafayette, Louisiana  \n",
       "...                     ...           ...                            ...  \n",
       "6510                COVID19    mygovindia                          India  \n",
       "6511      COVID19\\nvaccines       PDChina             Wazirabad,Pakistan  \n",
       "6515            coronavirus   DrAMSinghvi                          India  \n",
       "6522  DrLiMengYan\\nCCPVirus    edendomain          Osaka-shi Chuo, Osaka  \n",
       "6530                COVID19       WHOAFRO       Yorkshire and The Humber  \n",
       "\n",
       "[1556 rows x 16 columns]"
      ]
     },
     "execution_count": 3,
     "metadata": {},
     "output_type": "execute_result"
    }
   ],
   "source": [
    "tweets_df=pd.read_csv('cleaned_fintech_data.csv')\n",
    "tweets_df.dropna()\n"
   ]
  },
  {
   "cell_type": "code",
   "execution_count": 4,
   "metadata": {
    "colab": {
     "base_uri": "https://localhost:8080/"
    },
    "id": "31p0WZaVQbDG",
    "outputId": "9c1f4124-fa5e-42cb-aa1f-035b2c4b70f7"
   },
   "outputs": [
    {
     "data": {
      "text/plain": [
       "6532"
      ]
     },
     "execution_count": 4,
     "metadata": {},
     "output_type": "execute_result"
    }
   ],
   "source": [
    "len(tweets_df)"
   ]
  },
  {
   "cell_type": "code",
   "execution_count": 22,
   "metadata": {},
   "outputs": [
    {
     "data": {
      "text/html": [
       "<div>\n",
       "<style scoped>\n",
       "    .dataframe tbody tr th:only-of-type {\n",
       "        vertical-align: middle;\n",
       "    }\n",
       "\n",
       "    .dataframe tbody tr th {\n",
       "        vertical-align: top;\n",
       "    }\n",
       "\n",
       "    .dataframe thead th {\n",
       "        text-align: right;\n",
       "    }\n",
       "</style>\n",
       "<table border=\"1\" class=\"dataframe\">\n",
       "  <thead>\n",
       "    <tr style=\"text-align: right;\">\n",
       "      <th></th>\n",
       "      <th>clean_text</th>\n",
       "      <th>polarity</th>\n",
       "    </tr>\n",
       "  </thead>\n",
       "  <tbody>\n",
       "    <tr>\n",
       "      <th>0</th>\n",
       "      <td>🚨Africa is \"in the midst of a full-blown third...</td>\n",
       "      <td>0.166667</td>\n",
       "    </tr>\n",
       "    <tr>\n",
       "      <th>1</th>\n",
       "      <td>Dr Moeti is head of WHO in Africa, and one of ...</td>\n",
       "      <td>0.133333</td>\n",
       "    </tr>\n",
       "    <tr>\n",
       "      <th>2</th>\n",
       "      <td>Thank you @research2note for creating this ama...</td>\n",
       "      <td>0.316667</td>\n",
       "    </tr>\n",
       "    <tr>\n",
       "      <th>3</th>\n",
       "      <td>Former Pfizer VP and Virologist, Dr. Michael Y...</td>\n",
       "      <td>0.086111</td>\n",
       "    </tr>\n",
       "    <tr>\n",
       "      <th>4</th>\n",
       "      <td>I think it’s important that we don’t sell COVA...</td>\n",
       "      <td>0.280000</td>\n",
       "    </tr>\n",
       "  </tbody>\n",
       "</table>\n",
       "</div>"
      ],
      "text/plain": [
       "                                          clean_text  polarity\n",
       "0  🚨Africa is \"in the midst of a full-blown third...  0.166667\n",
       "1  Dr Moeti is head of WHO in Africa, and one of ...  0.133333\n",
       "2  Thank you @research2note for creating this ama...  0.316667\n",
       "3  Former Pfizer VP and Virologist, Dr. Michael Y...  0.086111\n",
       "4  I think it’s important that we don’t sell COVA...  0.280000"
      ]
     },
     "execution_count": 22,
     "metadata": {},
     "output_type": "execute_result"
    }
   ],
   "source": [
    "cleanTweet = tweets_df[['original_text', 'polarity']].rename({'original_text': 'clean_text'}, axis=1)\n",
    "cleanTweet.head()"
   ]
  },
  {
   "cell_type": "code",
   "execution_count": 23,
   "metadata": {},
   "outputs": [],
   "source": [
    "# Apply text_category on the  𝐩𝐨𝐥𝐚𝐫𝐢𝐭𝐲  column of cleanTweet, form a new column called  𝐬𝐜𝐨𝐫𝐞\n",
    "cleanTweet['score'] = cleanTweet[\"polarity\"].map(text_catagory)"
   ]
  },
  {
   "cell_type": "code",
   "execution_count": 24,
   "metadata": {},
   "outputs": [
    {
     "data": {
      "text/html": [
       "<div>\n",
       "<style scoped>\n",
       "    .dataframe tbody tr th:only-of-type {\n",
       "        vertical-align: middle;\n",
       "    }\n",
       "\n",
       "    .dataframe tbody tr th {\n",
       "        vertical-align: top;\n",
       "    }\n",
       "\n",
       "    .dataframe thead th {\n",
       "        text-align: right;\n",
       "    }\n",
       "</style>\n",
       "<table border=\"1\" class=\"dataframe\">\n",
       "  <thead>\n",
       "    <tr style=\"text-align: right;\">\n",
       "      <th></th>\n",
       "      <th>clean_text</th>\n",
       "      <th>polarity</th>\n",
       "      <th>score</th>\n",
       "    </tr>\n",
       "  </thead>\n",
       "  <tbody>\n",
       "    <tr>\n",
       "      <th>0</th>\n",
       "      <td>🚨Africa is \"in the midst of a full-blown third...</td>\n",
       "      <td>0.166667</td>\n",
       "      <td>positive</td>\n",
       "    </tr>\n",
       "    <tr>\n",
       "      <th>1</th>\n",
       "      <td>Dr Moeti is head of WHO in Africa, and one of ...</td>\n",
       "      <td>0.133333</td>\n",
       "      <td>positive</td>\n",
       "    </tr>\n",
       "    <tr>\n",
       "      <th>2</th>\n",
       "      <td>Thank you @research2note for creating this ama...</td>\n",
       "      <td>0.316667</td>\n",
       "      <td>positive</td>\n",
       "    </tr>\n",
       "    <tr>\n",
       "      <th>3</th>\n",
       "      <td>Former Pfizer VP and Virologist, Dr. Michael Y...</td>\n",
       "      <td>0.086111</td>\n",
       "      <td>positive</td>\n",
       "    </tr>\n",
       "    <tr>\n",
       "      <th>4</th>\n",
       "      <td>I think it’s important that we don’t sell COVA...</td>\n",
       "      <td>0.280000</td>\n",
       "      <td>positive</td>\n",
       "    </tr>\n",
       "  </tbody>\n",
       "</table>\n",
       "</div>"
      ],
      "text/plain": [
       "                                          clean_text  polarity     score\n",
       "0  🚨Africa is \"in the midst of a full-blown third...  0.166667  positive\n",
       "1  Dr Moeti is head of WHO in Africa, and one of ...  0.133333  positive\n",
       "2  Thank you @research2note for creating this ama...  0.316667  positive\n",
       "3  Former Pfizer VP and Virologist, Dr. Michael Y...  0.086111  positive\n",
       "4  I think it’s important that we don’t sell COVA...  0.280000  positive"
      ]
     },
     "execution_count": 24,
     "metadata": {},
     "output_type": "execute_result"
    }
   ],
   "source": [
    "# Remove rows from cleanTweet where  𝐩𝐨𝐥𝐚𝐫𝐢𝐭𝐲   =0  (i.e where  𝐬𝐜𝐨𝐫𝐞  = Neutral)\n",
    "cleanTweet = cleanTweet[cleanTweet['polarity'] != 0]\n",
    "\n",
    "# reset the frame index.\n",
    "cleanTweet.reset_index(drop=True, inplace=True)\n",
    "cleanTweet.head()"
   ]
  },
  {
   "cell_type": "code",
   "execution_count": 25,
   "metadata": {},
   "outputs": [
    {
     "data": {
      "text/html": [
       "<div>\n",
       "<style scoped>\n",
       "    .dataframe tbody tr th:only-of-type {\n",
       "        vertical-align: middle;\n",
       "    }\n",
       "\n",
       "    .dataframe tbody tr th {\n",
       "        vertical-align: top;\n",
       "    }\n",
       "\n",
       "    .dataframe thead th {\n",
       "        text-align: right;\n",
       "    }\n",
       "</style>\n",
       "<table border=\"1\" class=\"dataframe\">\n",
       "  <thead>\n",
       "    <tr style=\"text-align: right;\">\n",
       "      <th></th>\n",
       "      <th>clean_text</th>\n",
       "      <th>polarity</th>\n",
       "      <th>score</th>\n",
       "      <th>scoremap</th>\n",
       "    </tr>\n",
       "  </thead>\n",
       "  <tbody>\n",
       "    <tr>\n",
       "      <th>0</th>\n",
       "      <td>🚨Africa is \"in the midst of a full-blown third...</td>\n",
       "      <td>0.166667</td>\n",
       "      <td>positive</td>\n",
       "      <td>1</td>\n",
       "    </tr>\n",
       "    <tr>\n",
       "      <th>1</th>\n",
       "      <td>Dr Moeti is head of WHO in Africa, and one of ...</td>\n",
       "      <td>0.133333</td>\n",
       "      <td>positive</td>\n",
       "      <td>1</td>\n",
       "    </tr>\n",
       "    <tr>\n",
       "      <th>2</th>\n",
       "      <td>Thank you @research2note for creating this ama...</td>\n",
       "      <td>0.316667</td>\n",
       "      <td>positive</td>\n",
       "      <td>1</td>\n",
       "    </tr>\n",
       "    <tr>\n",
       "      <th>3</th>\n",
       "      <td>Former Pfizer VP and Virologist, Dr. Michael Y...</td>\n",
       "      <td>0.086111</td>\n",
       "      <td>positive</td>\n",
       "      <td>1</td>\n",
       "    </tr>\n",
       "    <tr>\n",
       "      <th>4</th>\n",
       "      <td>I think it’s important that we don’t sell COVA...</td>\n",
       "      <td>0.280000</td>\n",
       "      <td>positive</td>\n",
       "      <td>1</td>\n",
       "    </tr>\n",
       "  </tbody>\n",
       "</table>\n",
       "</div>"
      ],
      "text/plain": [
       "                                          clean_text  polarity     score  \\\n",
       "0  🚨Africa is \"in the midst of a full-blown third...  0.166667  positive   \n",
       "1  Dr Moeti is head of WHO in Africa, and one of ...  0.133333  positive   \n",
       "2  Thank you @research2note for creating this ama...  0.316667  positive   \n",
       "3  Former Pfizer VP and Virologist, Dr. Michael Y...  0.086111  positive   \n",
       "4  I think it’s important that we don’t sell COVA...  0.280000  positive   \n",
       "\n",
       "   scoremap  \n",
       "0         1  \n",
       "1         1  \n",
       "2         1  \n",
       "3         1  \n",
       "4         1  "
      ]
     },
     "execution_count": 25,
     "metadata": {},
     "output_type": "execute_result"
    }
   ],
   "source": [
    "# Construct a column  𝐬𝐜𝐨𝐫𝐞𝐦𝐚𝐩  Use the mapping {'positive':1, 'negative':0} on the  𝐬𝐜𝐨𝐫𝐞  column\n",
    "def get_score(value):\n",
    "    return 1 if (value == 'positive') else 0\n",
    "\n",
    "cleanTweet['scoremap'] = cleanTweet['score'].map(get_score)\n",
    "cleanTweet.head()"
   ]
  },
  {
   "cell_type": "code",
   "execution_count": 31,
   "metadata": {
    "id": "zoI1crVvCCxY"
   },
   "outputs": [],
   "source": [
    "class PrepareData:\n",
    "  def __init__(self,df):\n",
    "    self.df=df\n",
    "    \n",
    "  def preprocess_data(self):\n",
    "    #cleanTweet = self.df.loc[self.df['lang'] ==\"en\"]\n",
    "\n",
    "    \n",
    "    #text Preprocessing\n",
    "    cleanTweet['clean_text']=cleanTweet['clean_text'].astype(str)\n",
    "    cleanTweet['clean_text'] = cleanTweet['clean_text'].apply(lambda x: x.lower())\n",
    "    cleanTweet['clean_text']= cleanTweet['clean_text'].apply(lambda x: x.translate(str.maketrans(' ', ' ', string.punctuation)))\n",
    "    \n",
    "    #Converting tweets to list of words For feature engineering\n",
    "    sentence_list = [tweet for tweet in cleanTweet['clean_text']]\n",
    "    word_list = [sent.split() for sent in sentence_list]\n",
    "\n",
    "    #Create dictionary which contains Id and word \n",
    "    word_to_id = corpora.Dictionary(word_list)\n",
    "    corpus_1= [word_to_id.doc2bow(tweet) for tweet in word_list]\n",
    "\n",
    "\n",
    "\n",
    "    \n",
    "    return word_list, word_to_id, corpus_1\n"
   ]
  },
  {
   "cell_type": "code",
   "execution_count": 33,
   "metadata": {
    "id": "YNvtCNYKEKco"
   },
   "outputs": [],
   "source": [
    "PrepareData_obj=PrepareData(cleanTweet)\n",
    "word_list ,id2word,corpus=PrepareData_obj.preprocess_data()"
   ]
  },
  {
   "cell_type": "markdown",
   "metadata": {
    "id": "UiOucOjxYYZl"
   },
   "source": [
    "### Topic Modeling using Latent Dirichlet Allocation \n",
    "based on the distributional hypothesis, (i.e. similar topics make use of similar words) and the statistical mixture hypothesis (i.e. documents talk about several topics) for which a statistical distribution can be determined. \n",
    "\n",
    "*  The purpose of LDA is mapping each teweets in our corpus to a set of topics \n",
    "which covers a good deal of the words in the tweet\n",
    "\n"
   ]
  },
  {
   "cell_type": "code",
   "execution_count": 34,
   "metadata": {
    "id": "aHqC02L_NUMG"
   },
   "outputs": [],
   "source": [
    "# Build LDA model\n",
    "lda_model = gensim.models.ldamodel.LdaModel(corpus,\n",
    "                                           id2word=id2word,\n",
    "                                           num_topics=5, \n",
    "                                           random_state=100,\n",
    "                                           update_every=1,\n",
    "                                           chunksize=100,\n",
    "                                           passes=10,\n",
    "                                           alpha='auto',\n",
    "                                           per_word_topics=True)"
   ]
  },
  {
   "cell_type": "code",
   "execution_count": 35,
   "metadata": {
    "colab": {
     "base_uri": "https://localhost:8080/"
    },
    "id": "aa5pVKgnmpzn",
    "outputId": "83d42d3b-4d06-4974-fda2-54c13ca7a9d7"
   },
   "outputs": [
    {
     "name": "stdout",
     "output_type": "stream",
     "text": [
      "[(0,\n",
      "  [('to', 0.035455454),\n",
      "   ('the', 0.026376467),\n",
      "   ('covid19', 0.02095555),\n",
      "   ('a', 0.018707378),\n",
      "   ('risk', 0.015022333),\n",
      "   ('vaccines', 0.014484119),\n",
      "   ('in', 0.014128335),\n",
      "   ('your', 0.012817391),\n",
      "   ('that', 0.012353266),\n",
      "   ('of', 0.012145905)]),\n",
      " (1,\n",
      "  [('vaccines', 0.04108493),\n",
      "   ('age', 0.03400315),\n",
      "   ('capacity', 0.032317996),\n",
      "   ('min', 0.031033635),\n",
      "   ('limit', 0.031033635),\n",
      "   ('dose1', 0.031033635),\n",
      "   ('pin', 0.031033635),\n",
      "   ('covaxin', 0.023757929),\n",
      "   ('pmcg', 0.018742956),\n",
      "   ('0', 0.01812064)]),\n",
      " (2,\n",
      "  [('of', 0.044023555),\n",
      "   ('india', 0.043407995),\n",
      "   ('the', 0.042644426),\n",
      "   ('in', 0.04256079),\n",
      "   ('africa', 0.036441024),\n",
      "   ('covid19', 0.030540043),\n",
      "   ('wave', 0.027137108),\n",
      "   ('third', 0.02658758),\n",
      "   ('a', 0.02233464),\n",
      "   ('cases', 0.021765891)]),\n",
      " (3,\n",
      "  [('to', 0.0405088),\n",
      "   ('the', 0.04048643),\n",
      "   ('and', 0.037504062),\n",
      "   ('we', 0.02360637),\n",
      "   ('vaccines', 0.021986641),\n",
      "   ('of', 0.02001904),\n",
      "   ('in', 0.019208804),\n",
      "   ('need', 0.01872153),\n",
      "   ('you', 0.017626973),\n",
      "   ('africa', 0.01728749)]),\n",
      " (4,\n",
      "  [('the', 0.046493266),\n",
      "   ('of', 0.036361493),\n",
      "   ('to', 0.03579503),\n",
      "   ('covid19', 0.023508705),\n",
      "   ('vaccines', 0.021737847),\n",
      "   ('is', 0.016561015),\n",
      "   ('in', 0.014888571),\n",
      "   ('have', 0.014734473),\n",
      "   ('a', 0.013454086),\n",
      "   ('and', 0.013173263)])]\n"
     ]
    }
   ],
   "source": [
    "\n",
    "\n",
    "pprint(lda_model.show_topics(formatted=False))"
   ]
  },
  {
   "cell_type": "markdown",
   "metadata": {
    "id": "0dDmumROo4zX"
   },
   "source": [
    "Each line is a topic with individual topic terms and weights. Topic0  can be termed as climate change, and Topic4 can be termed as government and carbon emission."
   ]
  },
  {
   "cell_type": "markdown",
   "metadata": {
    "id": "1pLR7-4AtZzT"
   },
   "source": [
    "# **Model Analysis**\n",
    "\n",
    "Perplexity is also a measure of model quality and in natural language processing is often used as “perplexity per number of words”. It describes how well a model predicts a sample, i.e. how much it is “perplexed” by a sample from the observed data. The lower the score, the better the model for the given data.\n",
    "\n",
    "A coherence matrix is used to test the model for accuracy. Topic coherence is a measure that compares different topic models based on their human-interpretability. The coherence score ‘C_V’ provides a numerical value to the interpretability of the topics"
   ]
  },
  {
   "cell_type": "code",
   "execution_count": 36,
   "metadata": {
    "colab": {
     "base_uri": "https://localhost:8080/"
    },
    "id": "JWDGb45QqRoZ",
    "outputId": "da168d8d-7bdd-4003-c253-29ede38c7ee0"
   },
   "outputs": [
    {
     "name": "stdout",
     "output_type": "stream",
     "text": [
      "\n",
      "Perplexity:  -6.47064946288357\n",
      "\n",
      " Ldamodel Coherence Score/Accuracy on Tweets:  0.5083747137084009\n"
     ]
    }
   ],
   "source": [
    "# Compute Perplexity\n",
    "\n",
    "#It's a measure of how good the model is. The lower the better. Perplexity is a negative value\n",
    "print('\\nPerplexity: ', lda_model.log_perplexity(corpus))  \n",
    "doc_lda = lda_model[corpus]\n",
    "\n",
    "\n",
    "# Compute Coherence Score\n",
    "coherence_model_lda = CoherenceModel(model=lda_model, texts=word_list, dictionary=id2word, coherence='c_v')\n",
    "coherence_lda = coherence_model_lda.get_coherence()\n",
    "print('\\n Ldamodel Coherence Score/Accuracy on Tweets: ', coherence_lda)"
   ]
  },
  {
   "cell_type": "markdown",
   "metadata": {
    "id": "_KR1oX1q5dUD"
   },
   "source": [
    "Basic Ldamodel Coherence Score 0.58 This means that the model has performed reasonably well in topic modeling."
   ]
  },
  {
   "cell_type": "code",
   "execution_count": 37,
   "metadata": {
    "colab": {
     "base_uri": "https://localhost:8080/",
     "height": 904
    },
    "id": "yAyoNCIWlGql",
    "outputId": "fa34a99c-b168-4436-c3d7-a537b7ac9b13"
   },
   "outputs": [
    {
     "name": "stdout",
     "output_type": "stream",
     "text": [
      "Processing c:\\users\\user\\appdata\\local\\pip\\cache\\wheels\\90\\61\\ec\\9dbe9efc3acf9c4e37ba70fbbcc3f3a0ebd121060aa593181a\\pyldavis-3.3.1-py2.py3-none-any.whl\n",
      "Requirement already satisfied: funcy in c:\\users\\user\\anaconda3\\lib\\site-packages (from pyLDAvis) (1.16)\n",
      "Requirement already satisfied: numpy>=1.20.0 in c:\\users\\user\\anaconda3\\lib\\site-packages (from pyLDAvis) (1.21.0)\n",
      "Requirement already satisfied: scikit-learn in c:\\users\\user\\anaconda3\\lib\\site-packages (from pyLDAvis) (0.23.2)\n",
      "Requirement already satisfied: numexpr in c:\\users\\user\\anaconda3\\lib\\site-packages (from pyLDAvis) (2.7.1)\n",
      "Requirement already satisfied: setuptools in c:\\users\\user\\anaconda3\\lib\\site-packages (from pyLDAvis) (50.3.1.post20201107)\n",
      "Processing c:\\users\\user\\appdata\\local\\pip\\cache\\wheels\\22\\0b\\40\\fd3f795caaa1fb4c6cb738bc1f56100be1e57da95849bfc897\\sklearn-0.0-py2.py3-none-any.whl\n",
      "Requirement already satisfied: scipy in c:\\users\\user\\anaconda3\\lib\\site-packages (from pyLDAvis) (1.5.2)\n",
      "Requirement already satisfied: jinja2 in c:\\users\\user\\anaconda3\\lib\\site-packages (from pyLDAvis) (2.11.2)\n",
      "Requirement already satisfied: gensim in c:\\users\\user\\anaconda3\\lib\\site-packages (from pyLDAvis) (4.0.1)\n",
      "Requirement already satisfied: future in c:\\users\\user\\anaconda3\\lib\\site-packages (from pyLDAvis) (0.18.2)\n",
      "Collecting pandas>=1.2.0\n",
      "  Using cached pandas-1.2.5-cp38-cp38-win_amd64.whl (9.3 MB)\n",
      "Requirement already satisfied: joblib in c:\\users\\user\\anaconda3\\lib\\site-packages (from pyLDAvis) (0.17.0)\n",
      "Requirement already satisfied: threadpoolctl>=2.0.0 in c:\\users\\user\\anaconda3\\lib\\site-packages (from scikit-learn->pyLDAvis) (2.1.0)\n",
      "Requirement already satisfied: MarkupSafe>=0.23 in c:\\users\\user\\anaconda3\\lib\\site-packages (from jinja2->pyLDAvis) (1.1.1)\n",
      "Requirement already satisfied: smart-open>=1.8.1 in c:\\users\\user\\anaconda3\\lib\\site-packages (from gensim->pyLDAvis) (5.1.0)\n",
      "Requirement already satisfied: Cython==0.29.21 in c:\\users\\user\\anaconda3\\lib\\site-packages (from gensim->pyLDAvis) (0.29.21)\n",
      "Requirement already satisfied: pytz>=2017.3 in c:\\users\\user\\anaconda3\\lib\\site-packages (from pandas>=1.2.0->pyLDAvis) (2020.1)\n",
      "Requirement already satisfied: python-dateutil>=2.7.3 in c:\\users\\user\\anaconda3\\lib\\site-packages (from pandas>=1.2.0->pyLDAvis) (2.8.1)\n",
      "Requirement already satisfied: six>=1.5 in c:\\users\\user\\anaconda3\\lib\\site-packages (from python-dateutil>=2.7.3->pandas>=1.2.0->pyLDAvis) (1.15.0)\n",
      "Installing collected packages: sklearn, pandas, pyLDAvis\n",
      "  Attempting uninstall: pandas\n",
      "    Found existing installation: pandas 1.1.3\n",
      "    Uninstalling pandas-1.1.3:\n",
      "      Successfully uninstalled pandas-1.1.3\n"
     ]
    },
    {
     "name": "stderr",
     "output_type": "stream",
     "text": [
      "ERROR: Could not install packages due to an EnvironmentError: [WinError 5] Access is denied: 'C:\\\\Users\\\\user\\\\anaconda3\\\\Lib\\\\site-packages\\\\~andas\\\\_libs\\\\algos.cp38-win_amd64.pyd'\n",
      "Consider using the `--user` option or check the permissions.\n",
      "\n"
     ]
    }
   ],
   "source": [
    "!pip install pyLDAvis "
   ]
  },
  {
   "cell_type": "markdown",
   "metadata": {
    "id": "eylzfskkr8f7"
   },
   "source": [
    "**Anlayizing results**\n",
    "Exploring the Intertopic Distance Plot can help you learn about how topics relate to each other, including potential higher-level structure between groups of topics"
   ]
  },
  {
   "cell_type": "code",
   "execution_count": null,
   "metadata": {
    "colab": {
     "base_uri": "https://localhost:8080/",
     "height": 915
    },
    "id": "6gJXbv8Jkjg-",
    "outputId": "26a2d031-8393-439a-e4f7-8341fca8075b"
   },
   "outputs": [],
   "source": [
    "import pyLDAvis.gensim_models as gensimvis\n",
    "import pickle \n",
    "import pyLDAvis\n",
    "# Visualize the topics\n",
    "pyLDAvis.enable_notebook()\n",
    "\n",
    "LDAvis_prepared = gensimvis.prepare(lda_model, corpus, id2word)\n",
    "LDAvis_prepared"
   ]
  },
  {
   "cell_type": "code",
   "execution_count": null,
   "metadata": {},
   "outputs": [],
   "source": []
  },
  {
   "cell_type": "code",
   "execution_count": null,
   "metadata": {},
   "outputs": [],
   "source": []
  }
 ],
 "metadata": {
  "colab": {
   "collapsed_sections": [],
   "name": "Modeling_Twitter.ipynb",
   "provenance": []
  },
  "kernelspec": {
   "display_name": "Python 3",
   "language": "python",
   "name": "python3"
  },
  "language_info": {
   "codemirror_mode": {
    "name": "ipython",
    "version": 3
   },
   "file_extension": ".py",
   "mimetype": "text/x-python",
   "name": "python",
   "nbconvert_exporter": "python",
   "pygments_lexer": "ipython3",
   "version": "3.8.5"
  }
 },
 "nbformat": 4,
 "nbformat_minor": 1
}
